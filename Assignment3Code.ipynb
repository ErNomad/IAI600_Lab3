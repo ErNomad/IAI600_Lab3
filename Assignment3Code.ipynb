{
 "cells": [
  {
   "cell_type": "markdown",
   "id": "a3f50efc",
   "metadata": {},
   "source": [
    "## Importing necessary libraries"
   ]
  },
  {
   "cell_type": "code",
   "execution_count": 1,
   "id": "c74655f8",
   "metadata": {},
   "outputs": [],
   "source": [
    "import pandas as pd\n",
    "%matplotlib inline\n",
    "import matplotlib as mpl\n",
    "import matplotlib.pyplot as plt\n",
    "import numpy as np"
   ]
  },
  {
   "cell_type": "markdown",
   "id": "9ff22601",
   "metadata": {},
   "source": [
    "### Loading dataset"
   ]
  },
  {
   "cell_type": "code",
   "execution_count": 2,
   "id": "bc3e572e",
   "metadata": {},
   "outputs": [],
   "source": [
    "data = pd.read_csv(\"housing.csv\")"
   ]
  },
  {
   "cell_type": "markdown",
   "id": "3fbf8485",
   "metadata": {},
   "source": [
    "#### Making a copy to work with"
   ]
  },
  {
   "cell_type": "code",
   "execution_count": 3,
   "id": "a0735e41",
   "metadata": {},
   "outputs": [],
   "source": [
    "housing_data = data"
   ]
  },
  {
   "cell_type": "code",
   "execution_count": 4,
   "id": "71ded171",
   "metadata": {},
   "outputs": [
    {
     "data": {
      "text/html": [
       "<div>\n",
       "<style scoped>\n",
       "    .dataframe tbody tr th:only-of-type {\n",
       "        vertical-align: middle;\n",
       "    }\n",
       "\n",
       "    .dataframe tbody tr th {\n",
       "        vertical-align: top;\n",
       "    }\n",
       "\n",
       "    .dataframe thead th {\n",
       "        text-align: right;\n",
       "    }\n",
       "</style>\n",
       "<table border=\"1\" class=\"dataframe\">\n",
       "  <thead>\n",
       "    <tr style=\"text-align: right;\">\n",
       "      <th></th>\n",
       "      <th>longitude</th>\n",
       "      <th>latitude</th>\n",
       "      <th>housing_median_age</th>\n",
       "      <th>total_rooms</th>\n",
       "      <th>total_bedrooms</th>\n",
       "      <th>population</th>\n",
       "      <th>households</th>\n",
       "      <th>median_income</th>\n",
       "      <th>median_house_value</th>\n",
       "      <th>ocean_proximity</th>\n",
       "    </tr>\n",
       "  </thead>\n",
       "  <tbody>\n",
       "    <tr>\n",
       "      <th>0</th>\n",
       "      <td>-122.23</td>\n",
       "      <td>37.88</td>\n",
       "      <td>41.0</td>\n",
       "      <td>880.0</td>\n",
       "      <td>129.0</td>\n",
       "      <td>322.0</td>\n",
       "      <td>126.0</td>\n",
       "      <td>8.3252</td>\n",
       "      <td>452600.0</td>\n",
       "      <td>NEAR BAY</td>\n",
       "    </tr>\n",
       "    <tr>\n",
       "      <th>1</th>\n",
       "      <td>-122.22</td>\n",
       "      <td>37.86</td>\n",
       "      <td>21.0</td>\n",
       "      <td>7099.0</td>\n",
       "      <td>1106.0</td>\n",
       "      <td>2401.0</td>\n",
       "      <td>1138.0</td>\n",
       "      <td>8.3014</td>\n",
       "      <td>358500.0</td>\n",
       "      <td>NEAR BAY</td>\n",
       "    </tr>\n",
       "    <tr>\n",
       "      <th>2</th>\n",
       "      <td>-122.24</td>\n",
       "      <td>37.85</td>\n",
       "      <td>52.0</td>\n",
       "      <td>1467.0</td>\n",
       "      <td>190.0</td>\n",
       "      <td>496.0</td>\n",
       "      <td>177.0</td>\n",
       "      <td>7.2574</td>\n",
       "      <td>352100.0</td>\n",
       "      <td>NEAR BAY</td>\n",
       "    </tr>\n",
       "    <tr>\n",
       "      <th>3</th>\n",
       "      <td>-122.25</td>\n",
       "      <td>37.85</td>\n",
       "      <td>52.0</td>\n",
       "      <td>1274.0</td>\n",
       "      <td>235.0</td>\n",
       "      <td>558.0</td>\n",
       "      <td>219.0</td>\n",
       "      <td>5.6431</td>\n",
       "      <td>341300.0</td>\n",
       "      <td>NEAR BAY</td>\n",
       "    </tr>\n",
       "    <tr>\n",
       "      <th>4</th>\n",
       "      <td>-122.25</td>\n",
       "      <td>37.85</td>\n",
       "      <td>52.0</td>\n",
       "      <td>1627.0</td>\n",
       "      <td>280.0</td>\n",
       "      <td>565.0</td>\n",
       "      <td>259.0</td>\n",
       "      <td>3.8462</td>\n",
       "      <td>342200.0</td>\n",
       "      <td>NEAR BAY</td>\n",
       "    </tr>\n",
       "  </tbody>\n",
       "</table>\n",
       "</div>"
      ],
      "text/plain": [
       "   longitude  latitude  housing_median_age  total_rooms  total_bedrooms  \\\n",
       "0    -122.23     37.88                41.0        880.0           129.0   \n",
       "1    -122.22     37.86                21.0       7099.0          1106.0   \n",
       "2    -122.24     37.85                52.0       1467.0           190.0   \n",
       "3    -122.25     37.85                52.0       1274.0           235.0   \n",
       "4    -122.25     37.85                52.0       1627.0           280.0   \n",
       "\n",
       "   population  households  median_income  median_house_value ocean_proximity  \n",
       "0       322.0       126.0         8.3252            452600.0        NEAR BAY  \n",
       "1      2401.0      1138.0         8.3014            358500.0        NEAR BAY  \n",
       "2       496.0       177.0         7.2574            352100.0        NEAR BAY  \n",
       "3       558.0       219.0         5.6431            341300.0        NEAR BAY  \n",
       "4       565.0       259.0         3.8462            342200.0        NEAR BAY  "
      ]
     },
     "execution_count": 4,
     "metadata": {},
     "output_type": "execute_result"
    }
   ],
   "source": [
    "housing_data.head()"
   ]
  },
  {
   "cell_type": "markdown",
   "id": "8eb1cbab",
   "metadata": {},
   "source": [
    "#### Planting random seed to facilitate identical sampling"
   ]
  },
  {
   "cell_type": "code",
   "execution_count": 5,
   "id": "2513025d",
   "metadata": {},
   "outputs": [],
   "source": [
    "np.random.seed(42)"
   ]
  },
  {
   "cell_type": "markdown",
   "id": "d0d0deb3",
   "metadata": {},
   "source": [
    "#### Creating additional attribute to help perform stratified sampling"
   ]
  },
  {
   "cell_type": "code",
   "execution_count": 6,
   "id": "a517b937",
   "metadata": {},
   "outputs": [],
   "source": [
    "housing_data[\"income_cat\"] = pd.cut(housing_data[\"median_income\"],\n",
    "                               bins=[0., 1.5, 3.0, 4.5, 6., np.inf],\n",
    "                               labels=[1, 2, 3, 4, 5])"
   ]
  },
  {
   "cell_type": "code",
   "execution_count": 7,
   "id": "c66e5759",
   "metadata": {},
   "outputs": [],
   "source": [
    "from sklearn.model_selection import StratifiedShuffleSplit\n",
    "\n",
    "split = StratifiedShuffleSplit(n_splits=1, test_size=0.2, random_state=42)\n",
    "for train_index, test_index in split.split(housing_data, housing_data[\"income_cat\"]):\n",
    "    strat_train_set = housing_data.loc[train_index]\n",
    "    strat_test_set = housing_data.loc[test_index]"
   ]
  },
  {
   "cell_type": "code",
   "execution_count": 8,
   "id": "930966cf",
   "metadata": {},
   "outputs": [],
   "source": [
    "for set_ in (strat_train_set, strat_test_set):\n",
    "    set_.drop(\"income_cat\", axis=1, inplace=True)"
   ]
  },
  {
   "cell_type": "markdown",
   "id": "87f4dd22",
   "metadata": {},
   "source": [
    "## Train Set"
   ]
  },
  {
   "cell_type": "code",
   "execution_count": 9,
   "id": "e6363bf9",
   "metadata": {},
   "outputs": [],
   "source": [
    "housing_X_train = strat_train_set.drop(\"median_house_value\", axis=1)\n",
    "housing_y_train = strat_train_set[\"median_house_value\"].copy()"
   ]
  },
  {
   "cell_type": "markdown",
   "id": "f392e144",
   "metadata": {},
   "source": [
    "## Test Set"
   ]
  },
  {
   "cell_type": "code",
   "execution_count": 10,
   "id": "2a393867",
   "metadata": {},
   "outputs": [],
   "source": [
    "housing_X_test = strat_test_set.drop(\"median_house_value\",axis=1)\n",
    "housing_y_test = strat_test_set[\"median_house_value\"].copy()"
   ]
  },
  {
   "cell_type": "markdown",
   "id": "b80ad806",
   "metadata": {},
   "source": [
    "### Separating numerical and categorical attributes from the X_train set"
   ]
  },
  {
   "cell_type": "code",
   "execution_count": 11,
   "id": "c9d490c1",
   "metadata": {},
   "outputs": [],
   "source": [
    "housing_X_train_numerical = housing_X_train.drop(\"ocean_proximity\", axis=1)"
   ]
  },
  {
   "cell_type": "code",
   "execution_count": 12,
   "id": "87b57395",
   "metadata": {},
   "outputs": [],
   "source": [
    "housing_X_train_categorical = housing_X_train[[\"ocean_proximity\"]]"
   ]
  },
  {
   "cell_type": "markdown",
   "id": "2742c790",
   "metadata": {},
   "source": [
    "#### Defining imputer to fill in missing values"
   ]
  },
  {
   "cell_type": "code",
   "execution_count": 13,
   "id": "2b343375",
   "metadata": {},
   "outputs": [],
   "source": [
    "from sklearn.impute import SimpleImputer\n",
    "imputer = SimpleImputer(strategy=\"median\")"
   ]
  },
  {
   "cell_type": "markdown",
   "id": "99082a05",
   "metadata": {},
   "source": [
    "#### Defining one hot encoder for categorical variable \"ocean proximity\""
   ]
  },
  {
   "cell_type": "code",
   "execution_count": 14,
   "id": "bb698887",
   "metadata": {},
   "outputs": [],
   "source": [
    "from sklearn.preprocessing import OneHotEncoder\n",
    "cat_encoder = OneHotEncoder()"
   ]
  },
  {
   "cell_type": "markdown",
   "id": "64a0960e",
   "metadata": {},
   "source": [
    "#### Defining class to add additional attributes (feature engineering)"
   ]
  },
  {
   "cell_type": "code",
   "execution_count": 15,
   "id": "744c44bb",
   "metadata": {},
   "outputs": [],
   "source": [
    "from sklearn.base import BaseEstimator, TransformerMixin\n",
    "\n",
    "col_names = \"total_rooms\", \"total_bedrooms\", \"population\", \"households\"\n",
    "rooms_ix, bedrooms_ix, population_ix, households_ix = [housing_X_train_numerical.columns.get_loc(c) for c in col_names]\n",
    "\n",
    "class CombinedAttributesAdder(BaseEstimator, TransformerMixin):\n",
    "    def __init__(self, add_bedrooms_per_room=True):\n",
    "        self.add_bedrooms_per_room = add_bedrooms_per_room\n",
    "    def fit(self, X, y=None):\n",
    "        return self  # nothing else to do\n",
    "    def transform(self, X):\n",
    "        rooms_per_household = X[:, rooms_ix] / X[:, households_ix]\n",
    "        population_per_household = X[:, population_ix] / X[:, households_ix]\n",
    "        if self.add_bedrooms_per_room:\n",
    "            bedrooms_per_room = X[:, bedrooms_ix] / X[:, rooms_ix]\n",
    "            return np.c_[X, rooms_per_household, population_per_household,\n",
    "                         bedrooms_per_room]\n",
    "        else:\n",
    "            return np.c_[X, rooms_per_household, population_per_household]\n",
    "\n",
    "attr_adder = CombinedAttributesAdder(add_bedrooms_per_room=False)"
   ]
  },
  {
   "cell_type": "markdown",
   "id": "a9983257",
   "metadata": {},
   "source": [
    "#### Adding pipeline to perform few operations on the dataset"
   ]
  },
  {
   "cell_type": "code",
   "execution_count": 16,
   "id": "fc63fde5",
   "metadata": {},
   "outputs": [],
   "source": [
    "from sklearn.pipeline import Pipeline\n",
    "from sklearn.preprocessing import StandardScaler\n",
    "\n",
    "num_pipeline = Pipeline([('imputer', SimpleImputer(strategy=\"median\")),('attribs_adder', CombinedAttributesAdder()),\n",
    "                         ('std_scaler', StandardScaler()),])"
   ]
  },
  {
   "cell_type": "markdown",
   "id": "22daef1d",
   "metadata": {},
   "source": [
    "#### Adding column transformer to facilitate pipeline operations on both numerical and categorical attributes"
   ]
  },
  {
   "cell_type": "code",
   "execution_count": 17,
   "id": "b0243617",
   "metadata": {},
   "outputs": [],
   "source": [
    "from sklearn.compose import ColumnTransformer\n",
    "\n",
    "num_attribs = list(housing_X_train_numerical)\n",
    "cat_attribs = [\"ocean_proximity\"]\n",
    "\n",
    "full_pipeline = ColumnTransformer([(\"num\", num_pipeline, num_attribs),(\"cat\", OneHotEncoder(), cat_attribs),])\n",
    "\n",
    "housing_X_train_prepared = full_pipeline.fit_transform(housing_X_train)"
   ]
  },
  {
   "cell_type": "code",
   "execution_count": 18,
   "id": "9a4cda75",
   "metadata": {},
   "outputs": [
    {
     "data": {
      "text/plain": [
       "(16512, 16)"
      ]
     },
     "execution_count": 18,
     "metadata": {},
     "output_type": "execute_result"
    }
   ],
   "source": [
    "housing_X_train_prepared.shape"
   ]
  },
  {
   "cell_type": "code",
   "execution_count": 19,
   "id": "20fe902c",
   "metadata": {},
   "outputs": [
    {
     "data": {
      "text/plain": [
       "(16512,)"
      ]
     },
     "execution_count": 19,
     "metadata": {},
     "output_type": "execute_result"
    }
   ],
   "source": [
    "housing_y_train.shape"
   ]
  },
  {
   "cell_type": "markdown",
   "id": "5f83321b",
   "metadata": {},
   "source": [
    "#### Defining Linear Regression Model, Decision Tree, Random Forest and Support Vector Machine"
   ]
  },
  {
   "cell_type": "code",
   "execution_count": 20,
   "id": "981225c1",
   "metadata": {},
   "outputs": [],
   "source": [
    "from sklearn.linear_model import LinearRegression\n",
    "from sklearn.tree import DecisionTreeRegressor\n",
    "from sklearn.ensemble import RandomForestRegressor\n",
    "from sklearn.svm import SVR"
   ]
  },
  {
   "cell_type": "code",
   "execution_count": 21,
   "id": "ec8d1b65",
   "metadata": {},
   "outputs": [],
   "source": [
    "from sklearn.model_selection import GridSearchCV"
   ]
  },
  {
   "cell_type": "code",
   "execution_count": 22,
   "id": "4c2f62c9",
   "metadata": {},
   "outputs": [],
   "source": [
    "from sklearn.model_selection import cross_val_score"
   ]
  },
  {
   "cell_type": "code",
   "execution_count": 23,
   "id": "e1b01e22",
   "metadata": {},
   "outputs": [],
   "source": [
    "def display_scores(scores):\n",
    "    print(\"Scores:\", scores)\n",
    "    print(\"Mean:\", scores.mean())\n",
    "    print(\"Standard deviation:\", scores.std())"
   ]
  },
  {
   "cell_type": "markdown",
   "id": "63fe2b66",
   "metadata": {},
   "source": [
    "### Linear Regression"
   ]
  },
  {
   "cell_type": "code",
   "execution_count": 24,
   "id": "31de2e6d",
   "metadata": {},
   "outputs": [
    {
     "data": {
      "text/html": [
       "<style>#sk-container-id-1 {color: black;background-color: white;}#sk-container-id-1 pre{padding: 0;}#sk-container-id-1 div.sk-toggleable {background-color: white;}#sk-container-id-1 label.sk-toggleable__label {cursor: pointer;display: block;width: 100%;margin-bottom: 0;padding: 0.3em;box-sizing: border-box;text-align: center;}#sk-container-id-1 label.sk-toggleable__label-arrow:before {content: \"▸\";float: left;margin-right: 0.25em;color: #696969;}#sk-container-id-1 label.sk-toggleable__label-arrow:hover:before {color: black;}#sk-container-id-1 div.sk-estimator:hover label.sk-toggleable__label-arrow:before {color: black;}#sk-container-id-1 div.sk-toggleable__content {max-height: 0;max-width: 0;overflow: hidden;text-align: left;background-color: #f0f8ff;}#sk-container-id-1 div.sk-toggleable__content pre {margin: 0.2em;color: black;border-radius: 0.25em;background-color: #f0f8ff;}#sk-container-id-1 input.sk-toggleable__control:checked~div.sk-toggleable__content {max-height: 200px;max-width: 100%;overflow: auto;}#sk-container-id-1 input.sk-toggleable__control:checked~label.sk-toggleable__label-arrow:before {content: \"▾\";}#sk-container-id-1 div.sk-estimator input.sk-toggleable__control:checked~label.sk-toggleable__label {background-color: #d4ebff;}#sk-container-id-1 div.sk-label input.sk-toggleable__control:checked~label.sk-toggleable__label {background-color: #d4ebff;}#sk-container-id-1 input.sk-hidden--visually {border: 0;clip: rect(1px 1px 1px 1px);clip: rect(1px, 1px, 1px, 1px);height: 1px;margin: -1px;overflow: hidden;padding: 0;position: absolute;width: 1px;}#sk-container-id-1 div.sk-estimator {font-family: monospace;background-color: #f0f8ff;border: 1px dotted black;border-radius: 0.25em;box-sizing: border-box;margin-bottom: 0.5em;}#sk-container-id-1 div.sk-estimator:hover {background-color: #d4ebff;}#sk-container-id-1 div.sk-parallel-item::after {content: \"\";width: 100%;border-bottom: 1px solid gray;flex-grow: 1;}#sk-container-id-1 div.sk-label:hover label.sk-toggleable__label {background-color: #d4ebff;}#sk-container-id-1 div.sk-serial::before {content: \"\";position: absolute;border-left: 1px solid gray;box-sizing: border-box;top: 0;bottom: 0;left: 50%;z-index: 0;}#sk-container-id-1 div.sk-serial {display: flex;flex-direction: column;align-items: center;background-color: white;padding-right: 0.2em;padding-left: 0.2em;position: relative;}#sk-container-id-1 div.sk-item {position: relative;z-index: 1;}#sk-container-id-1 div.sk-parallel {display: flex;align-items: stretch;justify-content: center;background-color: white;position: relative;}#sk-container-id-1 div.sk-item::before, #sk-container-id-1 div.sk-parallel-item::before {content: \"\";position: absolute;border-left: 1px solid gray;box-sizing: border-box;top: 0;bottom: 0;left: 50%;z-index: -1;}#sk-container-id-1 div.sk-parallel-item {display: flex;flex-direction: column;z-index: 1;position: relative;background-color: white;}#sk-container-id-1 div.sk-parallel-item:first-child::after {align-self: flex-end;width: 50%;}#sk-container-id-1 div.sk-parallel-item:last-child::after {align-self: flex-start;width: 50%;}#sk-container-id-1 div.sk-parallel-item:only-child::after {width: 0;}#sk-container-id-1 div.sk-dashed-wrapped {border: 1px dashed gray;margin: 0 0.4em 0.5em 0.4em;box-sizing: border-box;padding-bottom: 0.4em;background-color: white;}#sk-container-id-1 div.sk-label label {font-family: monospace;font-weight: bold;display: inline-block;line-height: 1.2em;}#sk-container-id-1 div.sk-label-container {text-align: center;}#sk-container-id-1 div.sk-container {/* jupyter's `normalize.less` sets `[hidden] { display: none; }` but bootstrap.min.css set `[hidden] { display: none !important; }` so we also need the `!important` here to be able to override the default hidden behavior on the sphinx rendered scikit-learn.org. See: https://github.com/scikit-learn/scikit-learn/issues/21755 */display: inline-block !important;position: relative;}#sk-container-id-1 div.sk-text-repr-fallback {display: none;}</style><div id=\"sk-container-id-1\" class=\"sk-top-container\"><div class=\"sk-text-repr-fallback\"><pre>LinearRegression()</pre><b>In a Jupyter environment, please rerun this cell to show the HTML representation or trust the notebook. <br />On GitHub, the HTML representation is unable to render, please try loading this page with nbviewer.org.</b></div><div class=\"sk-container\" hidden><div class=\"sk-item\"><div class=\"sk-estimator sk-toggleable\"><input class=\"sk-toggleable__control sk-hidden--visually\" id=\"sk-estimator-id-1\" type=\"checkbox\" checked><label for=\"sk-estimator-id-1\" class=\"sk-toggleable__label sk-toggleable__label-arrow\">LinearRegression</label><div class=\"sk-toggleable__content\"><pre>LinearRegression()</pre></div></div></div></div></div>"
      ],
      "text/plain": [
       "LinearRegression()"
      ]
     },
     "execution_count": 24,
     "metadata": {},
     "output_type": "execute_result"
    }
   ],
   "source": [
    "linear_reg = LinearRegression()\n",
    "\n",
    "linear_reg.fit(housing_X_train_prepared, housing_y_train)"
   ]
  },
  {
   "cell_type": "code",
   "execution_count": 25,
   "id": "070f9bdc",
   "metadata": {},
   "outputs": [
    {
     "name": "stdout",
     "output_type": "stream",
     "text": [
      "Scores: [68076.63768302 67881.16711321 69712.97514343 71266.9225777\n",
      " 68390.25096271]\n",
      "Mean: 69065.59069601326\n",
      "Standard deviation: 1272.9445955637425\n"
     ]
    }
   ],
   "source": [
    "linear_crossval = cross_val_score(linear_reg, housing_X_train_prepared, housing_y_train,\n",
    "                             scoring=\"neg_mean_squared_error\", cv=5)\n",
    "linear_rmse_scores = np.sqrt(-linear_crossval)\n",
    "display_scores(linear_rmse_scores)"
   ]
  },
  {
   "cell_type": "markdown",
   "id": "80422cf6",
   "metadata": {},
   "source": [
    "### Grid Search for Decision Tree"
   ]
  },
  {
   "cell_type": "code",
   "execution_count": 26,
   "id": "0eeb3543",
   "metadata": {},
   "outputs": [],
   "source": [
    "tree_reg_gridsearch = DecisionTreeRegressor(random_state=42)"
   ]
  },
  {
   "cell_type": "code",
   "execution_count": 27,
   "id": "abf543d0",
   "metadata": {},
   "outputs": [
    {
     "data": {
      "text/html": [
       "<style>#sk-container-id-2 {color: black;background-color: white;}#sk-container-id-2 pre{padding: 0;}#sk-container-id-2 div.sk-toggleable {background-color: white;}#sk-container-id-2 label.sk-toggleable__label {cursor: pointer;display: block;width: 100%;margin-bottom: 0;padding: 0.3em;box-sizing: border-box;text-align: center;}#sk-container-id-2 label.sk-toggleable__label-arrow:before {content: \"▸\";float: left;margin-right: 0.25em;color: #696969;}#sk-container-id-2 label.sk-toggleable__label-arrow:hover:before {color: black;}#sk-container-id-2 div.sk-estimator:hover label.sk-toggleable__label-arrow:before {color: black;}#sk-container-id-2 div.sk-toggleable__content {max-height: 0;max-width: 0;overflow: hidden;text-align: left;background-color: #f0f8ff;}#sk-container-id-2 div.sk-toggleable__content pre {margin: 0.2em;color: black;border-radius: 0.25em;background-color: #f0f8ff;}#sk-container-id-2 input.sk-toggleable__control:checked~div.sk-toggleable__content {max-height: 200px;max-width: 100%;overflow: auto;}#sk-container-id-2 input.sk-toggleable__control:checked~label.sk-toggleable__label-arrow:before {content: \"▾\";}#sk-container-id-2 div.sk-estimator input.sk-toggleable__control:checked~label.sk-toggleable__label {background-color: #d4ebff;}#sk-container-id-2 div.sk-label input.sk-toggleable__control:checked~label.sk-toggleable__label {background-color: #d4ebff;}#sk-container-id-2 input.sk-hidden--visually {border: 0;clip: rect(1px 1px 1px 1px);clip: rect(1px, 1px, 1px, 1px);height: 1px;margin: -1px;overflow: hidden;padding: 0;position: absolute;width: 1px;}#sk-container-id-2 div.sk-estimator {font-family: monospace;background-color: #f0f8ff;border: 1px dotted black;border-radius: 0.25em;box-sizing: border-box;margin-bottom: 0.5em;}#sk-container-id-2 div.sk-estimator:hover {background-color: #d4ebff;}#sk-container-id-2 div.sk-parallel-item::after {content: \"\";width: 100%;border-bottom: 1px solid gray;flex-grow: 1;}#sk-container-id-2 div.sk-label:hover label.sk-toggleable__label {background-color: #d4ebff;}#sk-container-id-2 div.sk-serial::before {content: \"\";position: absolute;border-left: 1px solid gray;box-sizing: border-box;top: 0;bottom: 0;left: 50%;z-index: 0;}#sk-container-id-2 div.sk-serial {display: flex;flex-direction: column;align-items: center;background-color: white;padding-right: 0.2em;padding-left: 0.2em;position: relative;}#sk-container-id-2 div.sk-item {position: relative;z-index: 1;}#sk-container-id-2 div.sk-parallel {display: flex;align-items: stretch;justify-content: center;background-color: white;position: relative;}#sk-container-id-2 div.sk-item::before, #sk-container-id-2 div.sk-parallel-item::before {content: \"\";position: absolute;border-left: 1px solid gray;box-sizing: border-box;top: 0;bottom: 0;left: 50%;z-index: -1;}#sk-container-id-2 div.sk-parallel-item {display: flex;flex-direction: column;z-index: 1;position: relative;background-color: white;}#sk-container-id-2 div.sk-parallel-item:first-child::after {align-self: flex-end;width: 50%;}#sk-container-id-2 div.sk-parallel-item:last-child::after {align-self: flex-start;width: 50%;}#sk-container-id-2 div.sk-parallel-item:only-child::after {width: 0;}#sk-container-id-2 div.sk-dashed-wrapped {border: 1px dashed gray;margin: 0 0.4em 0.5em 0.4em;box-sizing: border-box;padding-bottom: 0.4em;background-color: white;}#sk-container-id-2 div.sk-label label {font-family: monospace;font-weight: bold;display: inline-block;line-height: 1.2em;}#sk-container-id-2 div.sk-label-container {text-align: center;}#sk-container-id-2 div.sk-container {/* jupyter's `normalize.less` sets `[hidden] { display: none; }` but bootstrap.min.css set `[hidden] { display: none !important; }` so we also need the `!important` here to be able to override the default hidden behavior on the sphinx rendered scikit-learn.org. See: https://github.com/scikit-learn/scikit-learn/issues/21755 */display: inline-block !important;position: relative;}#sk-container-id-2 div.sk-text-repr-fallback {display: none;}</style><div id=\"sk-container-id-2\" class=\"sk-top-container\"><div class=\"sk-text-repr-fallback\"><pre>GridSearchCV(cv=5, estimator=DecisionTreeRegressor(random_state=42),\n",
       "             param_grid=[{&#x27;ccp_alpha&#x27;: [0.0, 0.01, 0.05, 0.1],\n",
       "                          &#x27;max_depth&#x27;: [1, 5, 10],\n",
       "                          &#x27;max_leaf_nodes&#x27;: [5, 10, 50],\n",
       "                          &#x27;min_samples_leaf&#x27;: [1, 5, 10],\n",
       "                          &#x27;min_samples_split&#x27;: [5, 10],\n",
       "                          &#x27;min_weight_fraction_leaf&#x27;: [0.0, 0.5]}],\n",
       "             return_train_score=True, scoring=&#x27;neg_mean_squared_error&#x27;)</pre><b>In a Jupyter environment, please rerun this cell to show the HTML representation or trust the notebook. <br />On GitHub, the HTML representation is unable to render, please try loading this page with nbviewer.org.</b></div><div class=\"sk-container\" hidden><div class=\"sk-item sk-dashed-wrapped\"><div class=\"sk-label-container\"><div class=\"sk-label sk-toggleable\"><input class=\"sk-toggleable__control sk-hidden--visually\" id=\"sk-estimator-id-2\" type=\"checkbox\" ><label for=\"sk-estimator-id-2\" class=\"sk-toggleable__label sk-toggleable__label-arrow\">GridSearchCV</label><div class=\"sk-toggleable__content\"><pre>GridSearchCV(cv=5, estimator=DecisionTreeRegressor(random_state=42),\n",
       "             param_grid=[{&#x27;ccp_alpha&#x27;: [0.0, 0.01, 0.05, 0.1],\n",
       "                          &#x27;max_depth&#x27;: [1, 5, 10],\n",
       "                          &#x27;max_leaf_nodes&#x27;: [5, 10, 50],\n",
       "                          &#x27;min_samples_leaf&#x27;: [1, 5, 10],\n",
       "                          &#x27;min_samples_split&#x27;: [5, 10],\n",
       "                          &#x27;min_weight_fraction_leaf&#x27;: [0.0, 0.5]}],\n",
       "             return_train_score=True, scoring=&#x27;neg_mean_squared_error&#x27;)</pre></div></div></div><div class=\"sk-parallel\"><div class=\"sk-parallel-item\"><div class=\"sk-item\"><div class=\"sk-label-container\"><div class=\"sk-label sk-toggleable\"><input class=\"sk-toggleable__control sk-hidden--visually\" id=\"sk-estimator-id-3\" type=\"checkbox\" ><label for=\"sk-estimator-id-3\" class=\"sk-toggleable__label sk-toggleable__label-arrow\">estimator: DecisionTreeRegressor</label><div class=\"sk-toggleable__content\"><pre>DecisionTreeRegressor(random_state=42)</pre></div></div></div><div class=\"sk-serial\"><div class=\"sk-item\"><div class=\"sk-estimator sk-toggleable\"><input class=\"sk-toggleable__control sk-hidden--visually\" id=\"sk-estimator-id-4\" type=\"checkbox\" ><label for=\"sk-estimator-id-4\" class=\"sk-toggleable__label sk-toggleable__label-arrow\">DecisionTreeRegressor</label><div class=\"sk-toggleable__content\"><pre>DecisionTreeRegressor(random_state=42)</pre></div></div></div></div></div></div></div></div></div></div>"
      ],
      "text/plain": [
       "GridSearchCV(cv=5, estimator=DecisionTreeRegressor(random_state=42),\n",
       "             param_grid=[{'ccp_alpha': [0.0, 0.01, 0.05, 0.1],\n",
       "                          'max_depth': [1, 5, 10],\n",
       "                          'max_leaf_nodes': [5, 10, 50],\n",
       "                          'min_samples_leaf': [1, 5, 10],\n",
       "                          'min_samples_split': [5, 10],\n",
       "                          'min_weight_fraction_leaf': [0.0, 0.5]}],\n",
       "             return_train_score=True, scoring='neg_mean_squared_error')"
      ]
     },
     "execution_count": 27,
     "metadata": {},
     "output_type": "execute_result"
    }
   ],
   "source": [
    "param_grid = [{'max_depth': [1, 5, 10], 'min_samples_split': [5,10], 'min_samples_leaf': [1,5,10],\n",
    "               'max_leaf_nodes': [5,10,50], 'min_weight_fraction_leaf': [0.0, 0.5], 'ccp_alpha': [0.0, 0.01, 0.05, 0.1]}]\n",
    "\n",
    "\n",
    "tree_grid_search = GridSearchCV(tree_reg_gridsearch, param_grid, cv=5,\n",
    "                           scoring='neg_mean_squared_error',\n",
    "                           return_train_score=True)\n",
    "\n",
    "tree_grid_search.fit(housing_X_train_prepared, housing_y_train)"
   ]
  },
  {
   "cell_type": "code",
   "execution_count": 28,
   "id": "53a201c7",
   "metadata": {},
   "outputs": [
    {
     "data": {
      "text/plain": [
       "{'ccp_alpha': 0.0,\n",
       " 'max_depth': 10,\n",
       " 'max_leaf_nodes': 50,\n",
       " 'min_samples_leaf': 5,\n",
       " 'min_samples_split': 5,\n",
       " 'min_weight_fraction_leaf': 0.0}"
      ]
     },
     "execution_count": 28,
     "metadata": {},
     "output_type": "execute_result"
    }
   ],
   "source": [
    "tree_grid_search.best_params_"
   ]
  },
  {
   "cell_type": "markdown",
   "id": "411701af",
   "metadata": {},
   "source": [
    "### Grid Search for Random Forest"
   ]
  },
  {
   "cell_type": "code",
   "execution_count": 29,
   "id": "667c1430",
   "metadata": {},
   "outputs": [
    {
     "data": {
      "text/html": [
       "<style>#sk-container-id-3 {color: black;background-color: white;}#sk-container-id-3 pre{padding: 0;}#sk-container-id-3 div.sk-toggleable {background-color: white;}#sk-container-id-3 label.sk-toggleable__label {cursor: pointer;display: block;width: 100%;margin-bottom: 0;padding: 0.3em;box-sizing: border-box;text-align: center;}#sk-container-id-3 label.sk-toggleable__label-arrow:before {content: \"▸\";float: left;margin-right: 0.25em;color: #696969;}#sk-container-id-3 label.sk-toggleable__label-arrow:hover:before {color: black;}#sk-container-id-3 div.sk-estimator:hover label.sk-toggleable__label-arrow:before {color: black;}#sk-container-id-3 div.sk-toggleable__content {max-height: 0;max-width: 0;overflow: hidden;text-align: left;background-color: #f0f8ff;}#sk-container-id-3 div.sk-toggleable__content pre {margin: 0.2em;color: black;border-radius: 0.25em;background-color: #f0f8ff;}#sk-container-id-3 input.sk-toggleable__control:checked~div.sk-toggleable__content {max-height: 200px;max-width: 100%;overflow: auto;}#sk-container-id-3 input.sk-toggleable__control:checked~label.sk-toggleable__label-arrow:before {content: \"▾\";}#sk-container-id-3 div.sk-estimator input.sk-toggleable__control:checked~label.sk-toggleable__label {background-color: #d4ebff;}#sk-container-id-3 div.sk-label input.sk-toggleable__control:checked~label.sk-toggleable__label {background-color: #d4ebff;}#sk-container-id-3 input.sk-hidden--visually {border: 0;clip: rect(1px 1px 1px 1px);clip: rect(1px, 1px, 1px, 1px);height: 1px;margin: -1px;overflow: hidden;padding: 0;position: absolute;width: 1px;}#sk-container-id-3 div.sk-estimator {font-family: monospace;background-color: #f0f8ff;border: 1px dotted black;border-radius: 0.25em;box-sizing: border-box;margin-bottom: 0.5em;}#sk-container-id-3 div.sk-estimator:hover {background-color: #d4ebff;}#sk-container-id-3 div.sk-parallel-item::after {content: \"\";width: 100%;border-bottom: 1px solid gray;flex-grow: 1;}#sk-container-id-3 div.sk-label:hover label.sk-toggleable__label {background-color: #d4ebff;}#sk-container-id-3 div.sk-serial::before {content: \"\";position: absolute;border-left: 1px solid gray;box-sizing: border-box;top: 0;bottom: 0;left: 50%;z-index: 0;}#sk-container-id-3 div.sk-serial {display: flex;flex-direction: column;align-items: center;background-color: white;padding-right: 0.2em;padding-left: 0.2em;position: relative;}#sk-container-id-3 div.sk-item {position: relative;z-index: 1;}#sk-container-id-3 div.sk-parallel {display: flex;align-items: stretch;justify-content: center;background-color: white;position: relative;}#sk-container-id-3 div.sk-item::before, #sk-container-id-3 div.sk-parallel-item::before {content: \"\";position: absolute;border-left: 1px solid gray;box-sizing: border-box;top: 0;bottom: 0;left: 50%;z-index: -1;}#sk-container-id-3 div.sk-parallel-item {display: flex;flex-direction: column;z-index: 1;position: relative;background-color: white;}#sk-container-id-3 div.sk-parallel-item:first-child::after {align-self: flex-end;width: 50%;}#sk-container-id-3 div.sk-parallel-item:last-child::after {align-self: flex-start;width: 50%;}#sk-container-id-3 div.sk-parallel-item:only-child::after {width: 0;}#sk-container-id-3 div.sk-dashed-wrapped {border: 1px dashed gray;margin: 0 0.4em 0.5em 0.4em;box-sizing: border-box;padding-bottom: 0.4em;background-color: white;}#sk-container-id-3 div.sk-label label {font-family: monospace;font-weight: bold;display: inline-block;line-height: 1.2em;}#sk-container-id-3 div.sk-label-container {text-align: center;}#sk-container-id-3 div.sk-container {/* jupyter's `normalize.less` sets `[hidden] { display: none; }` but bootstrap.min.css set `[hidden] { display: none !important; }` so we also need the `!important` here to be able to override the default hidden behavior on the sphinx rendered scikit-learn.org. See: https://github.com/scikit-learn/scikit-learn/issues/21755 */display: inline-block !important;position: relative;}#sk-container-id-3 div.sk-text-repr-fallback {display: none;}</style><div id=\"sk-container-id-3\" class=\"sk-top-container\"><div class=\"sk-text-repr-fallback\"><pre>GridSearchCV(cv=5, estimator=RandomForestRegressor(random_state=42),\n",
       "             param_grid=[{&#x27;bootstrap&#x27;: [True], &#x27;max_features&#x27;: [2, 4, 6, 8],\n",
       "                          &#x27;n_estimators&#x27;: [3, 10, 30]},\n",
       "                         {&#x27;bootstrap&#x27;: [False], &#x27;max_features&#x27;: [2, 4, 6, 8],\n",
       "                          &#x27;n_estimators&#x27;: [3, 10, 30]}],\n",
       "             return_train_score=True, scoring=&#x27;neg_mean_squared_error&#x27;)</pre><b>In a Jupyter environment, please rerun this cell to show the HTML representation or trust the notebook. <br />On GitHub, the HTML representation is unable to render, please try loading this page with nbviewer.org.</b></div><div class=\"sk-container\" hidden><div class=\"sk-item sk-dashed-wrapped\"><div class=\"sk-label-container\"><div class=\"sk-label sk-toggleable\"><input class=\"sk-toggleable__control sk-hidden--visually\" id=\"sk-estimator-id-5\" type=\"checkbox\" ><label for=\"sk-estimator-id-5\" class=\"sk-toggleable__label sk-toggleable__label-arrow\">GridSearchCV</label><div class=\"sk-toggleable__content\"><pre>GridSearchCV(cv=5, estimator=RandomForestRegressor(random_state=42),\n",
       "             param_grid=[{&#x27;bootstrap&#x27;: [True], &#x27;max_features&#x27;: [2, 4, 6, 8],\n",
       "                          &#x27;n_estimators&#x27;: [3, 10, 30]},\n",
       "                         {&#x27;bootstrap&#x27;: [False], &#x27;max_features&#x27;: [2, 4, 6, 8],\n",
       "                          &#x27;n_estimators&#x27;: [3, 10, 30]}],\n",
       "             return_train_score=True, scoring=&#x27;neg_mean_squared_error&#x27;)</pre></div></div></div><div class=\"sk-parallel\"><div class=\"sk-parallel-item\"><div class=\"sk-item\"><div class=\"sk-label-container\"><div class=\"sk-label sk-toggleable\"><input class=\"sk-toggleable__control sk-hidden--visually\" id=\"sk-estimator-id-6\" type=\"checkbox\" ><label for=\"sk-estimator-id-6\" class=\"sk-toggleable__label sk-toggleable__label-arrow\">estimator: RandomForestRegressor</label><div class=\"sk-toggleable__content\"><pre>RandomForestRegressor(random_state=42)</pre></div></div></div><div class=\"sk-serial\"><div class=\"sk-item\"><div class=\"sk-estimator sk-toggleable\"><input class=\"sk-toggleable__control sk-hidden--visually\" id=\"sk-estimator-id-7\" type=\"checkbox\" ><label for=\"sk-estimator-id-7\" class=\"sk-toggleable__label sk-toggleable__label-arrow\">RandomForestRegressor</label><div class=\"sk-toggleable__content\"><pre>RandomForestRegressor(random_state=42)</pre></div></div></div></div></div></div></div></div></div></div>"
      ],
      "text/plain": [
       "GridSearchCV(cv=5, estimator=RandomForestRegressor(random_state=42),\n",
       "             param_grid=[{'bootstrap': [True], 'max_features': [2, 4, 6, 8],\n",
       "                          'n_estimators': [3, 10, 30]},\n",
       "                         {'bootstrap': [False], 'max_features': [2, 4, 6, 8],\n",
       "                          'n_estimators': [3, 10, 30]}],\n",
       "             return_train_score=True, scoring='neg_mean_squared_error')"
      ]
     },
     "execution_count": 29,
     "metadata": {},
     "output_type": "execute_result"
    }
   ],
   "source": [
    "random_reg_gridsearch = RandomForestRegressor(random_state=42)\n",
    "\n",
    "param_grid = [{'bootstrap': [True], 'n_estimators': [3, 10, 30], 'max_features': [2, 4, 6, 8]},\n",
    "              {'bootstrap': [False], 'n_estimators': [3, 10, 30], 'max_features': [2, 4, 6, 8]}]\n",
    "\n",
    "random_grid_search = GridSearchCV(random_reg_gridsearch, param_grid, cv=5,\n",
    "                           scoring='neg_mean_squared_error',\n",
    "                           return_train_score=True)\n",
    "\n",
    "random_grid_search.fit(housing_X_train_prepared, housing_y_train)"
   ]
  },
  {
   "cell_type": "code",
   "execution_count": 30,
   "id": "6090840a",
   "metadata": {},
   "outputs": [
    {
     "data": {
      "text/plain": [
       "{'bootstrap': False, 'max_features': 4, 'n_estimators': 30}"
      ]
     },
     "execution_count": 30,
     "metadata": {},
     "output_type": "execute_result"
    }
   ],
   "source": [
    "random_grid_search.best_params_"
   ]
  },
  {
   "cell_type": "markdown",
   "id": "697c6b55",
   "metadata": {},
   "source": [
    "### Grid Search for Support Vector Machine"
   ]
  },
  {
   "cell_type": "code",
   "execution_count": 31,
   "id": "dd9839b5",
   "metadata": {},
   "outputs": [
    {
     "name": "stdout",
     "output_type": "stream",
     "text": [
      "Fitting 5 folds for each of 16 candidates, totalling 80 fits\n",
      "[CV] END ..............................C=10.0, kernel=linear; total time=   8.4s\n",
      "[CV] END ..............................C=10.0, kernel=linear; total time=   5.5s\n",
      "[CV] END ..............................C=10.0, kernel=linear; total time=   5.0s\n",
      "[CV] END ..............................C=10.0, kernel=linear; total time=   5.0s\n",
      "[CV] END ..............................C=10.0, kernel=linear; total time=   5.0s\n",
      "[CV] END .............................C=100.0, kernel=linear; total time=   5.0s\n",
      "[CV] END .............................C=100.0, kernel=linear; total time=   4.9s\n",
      "[CV] END .............................C=100.0, kernel=linear; total time=   4.9s\n",
      "[CV] END .............................C=100.0, kernel=linear; total time=   5.1s\n",
      "[CV] END .............................C=100.0, kernel=linear; total time=   5.0s\n",
      "[CV] END ............................C=1000.0, kernel=linear; total time=   5.1s\n",
      "[CV] END ............................C=1000.0, kernel=linear; total time=   5.1s\n",
      "[CV] END ............................C=1000.0, kernel=linear; total time=   5.2s\n",
      "[CV] END ............................C=1000.0, kernel=linear; total time=   5.1s\n",
      "[CV] END ............................C=1000.0, kernel=linear; total time=   5.2s\n",
      "[CV] END ...........................C=10000.0, kernel=linear; total time=   6.9s\n",
      "[CV] END ...........................C=10000.0, kernel=linear; total time=   6.8s\n",
      "[CV] END ...........................C=10000.0, kernel=linear; total time=   6.7s\n",
      "[CV] END ...........................C=10000.0, kernel=linear; total time=   6.5s\n",
      "[CV] END ...........................C=10000.0, kernel=linear; total time=   6.8s\n",
      "[CV] END ......................C=1.0, gamma=0.01, kernel=rbf; total time=   9.8s\n",
      "[CV] END ......................C=1.0, gamma=0.01, kernel=rbf; total time=   9.9s\n",
      "[CV] END ......................C=1.0, gamma=0.01, kernel=rbf; total time=   9.9s\n",
      "[CV] END ......................C=1.0, gamma=0.01, kernel=rbf; total time=   9.9s\n",
      "[CV] END ......................C=1.0, gamma=0.01, kernel=rbf; total time=   9.9s\n",
      "[CV] END .......................C=1.0, gamma=0.1, kernel=rbf; total time=   9.7s\n",
      "[CV] END .......................C=1.0, gamma=0.1, kernel=rbf; total time=   9.8s\n",
      "[CV] END .......................C=1.0, gamma=0.1, kernel=rbf; total time=   9.7s\n",
      "[CV] END .......................C=1.0, gamma=0.1, kernel=rbf; total time=   9.8s\n",
      "[CV] END .......................C=1.0, gamma=0.1, kernel=rbf; total time=   9.9s\n",
      "[CV] END .......................C=1.0, gamma=1.0, kernel=rbf; total time=   9.4s\n",
      "[CV] END .......................C=1.0, gamma=1.0, kernel=rbf; total time=   9.4s\n",
      "[CV] END .......................C=1.0, gamma=1.0, kernel=rbf; total time=   9.3s\n",
      "[CV] END .......................C=1.0, gamma=1.0, kernel=rbf; total time=   9.3s\n",
      "[CV] END .......................C=1.0, gamma=1.0, kernel=rbf; total time=   9.2s\n",
      "[CV] END .....................C=10.0, gamma=0.01, kernel=rbf; total time=   9.9s\n",
      "[CV] END .....................C=10.0, gamma=0.01, kernel=rbf; total time=   9.9s\n",
      "[CV] END .....................C=10.0, gamma=0.01, kernel=rbf; total time=   9.9s\n",
      "[CV] END .....................C=10.0, gamma=0.01, kernel=rbf; total time=   9.9s\n",
      "[CV] END .....................C=10.0, gamma=0.01, kernel=rbf; total time=   9.9s\n",
      "[CV] END ......................C=10.0, gamma=0.1, kernel=rbf; total time=   9.8s\n",
      "[CV] END ......................C=10.0, gamma=0.1, kernel=rbf; total time=   9.9s\n",
      "[CV] END ......................C=10.0, gamma=0.1, kernel=rbf; total time=   9.8s\n",
      "[CV] END ......................C=10.0, gamma=0.1, kernel=rbf; total time=   9.7s\n",
      "[CV] END ......................C=10.0, gamma=0.1, kernel=rbf; total time=   9.7s\n",
      "[CV] END ......................C=10.0, gamma=1.0, kernel=rbf; total time=   9.3s\n",
      "[CV] END ......................C=10.0, gamma=1.0, kernel=rbf; total time=   9.3s\n",
      "[CV] END ......................C=10.0, gamma=1.0, kernel=rbf; total time=   9.3s\n",
      "[CV] END ......................C=10.0, gamma=1.0, kernel=rbf; total time=   9.3s\n",
      "[CV] END ......................C=10.0, gamma=1.0, kernel=rbf; total time=   9.4s\n",
      "[CV] END ....................C=100.0, gamma=0.01, kernel=rbf; total time=   9.9s\n",
      "[CV] END ....................C=100.0, gamma=0.01, kernel=rbf; total time=  10.0s\n",
      "[CV] END ....................C=100.0, gamma=0.01, kernel=rbf; total time=   9.9s\n",
      "[CV] END ....................C=100.0, gamma=0.01, kernel=rbf; total time=   9.9s\n",
      "[CV] END ....................C=100.0, gamma=0.01, kernel=rbf; total time=   9.8s\n",
      "[CV] END .....................C=100.0, gamma=0.1, kernel=rbf; total time=   9.6s\n",
      "[CV] END .....................C=100.0, gamma=0.1, kernel=rbf; total time=   9.7s\n",
      "[CV] END .....................C=100.0, gamma=0.1, kernel=rbf; total time=   9.6s\n",
      "[CV] END .....................C=100.0, gamma=0.1, kernel=rbf; total time=   9.6s\n",
      "[CV] END .....................C=100.0, gamma=0.1, kernel=rbf; total time=   9.7s\n",
      "[CV] END .....................C=100.0, gamma=1.0, kernel=rbf; total time=   9.2s\n",
      "[CV] END .....................C=100.0, gamma=1.0, kernel=rbf; total time=   9.3s\n",
      "[CV] END .....................C=100.0, gamma=1.0, kernel=rbf; total time=   9.3s\n",
      "[CV] END .....................C=100.0, gamma=1.0, kernel=rbf; total time=   9.4s\n",
      "[CV] END .....................C=100.0, gamma=1.0, kernel=rbf; total time=   9.3s\n",
      "[CV] END ...................C=1000.0, gamma=0.01, kernel=rbf; total time=   9.6s\n",
      "[CV] END ...................C=1000.0, gamma=0.01, kernel=rbf; total time=   9.7s\n",
      "[CV] END ...................C=1000.0, gamma=0.01, kernel=rbf; total time=   9.5s\n",
      "[CV] END ...................C=1000.0, gamma=0.01, kernel=rbf; total time=   9.4s\n",
      "[CV] END ...................C=1000.0, gamma=0.01, kernel=rbf; total time=   9.6s\n",
      "[CV] END ....................C=1000.0, gamma=0.1, kernel=rbf; total time=   9.5s\n",
      "[CV] END ....................C=1000.0, gamma=0.1, kernel=rbf; total time=   9.5s\n",
      "[CV] END ....................C=1000.0, gamma=0.1, kernel=rbf; total time=   9.4s\n",
      "[CV] END ....................C=1000.0, gamma=0.1, kernel=rbf; total time=   9.4s\n",
      "[CV] END ....................C=1000.0, gamma=0.1, kernel=rbf; total time=   9.4s\n",
      "[CV] END ....................C=1000.0, gamma=1.0, kernel=rbf; total time=   9.3s\n",
      "[CV] END ....................C=1000.0, gamma=1.0, kernel=rbf; total time=   9.3s\n",
      "[CV] END ....................C=1000.0, gamma=1.0, kernel=rbf; total time=   9.3s\n",
      "[CV] END ....................C=1000.0, gamma=1.0, kernel=rbf; total time=   9.3s\n",
      "[CV] END ....................C=1000.0, gamma=1.0, kernel=rbf; total time=   9.4s\n"
     ]
    },
    {
     "data": {
      "text/html": [
       "<style>#sk-container-id-4 {color: black;background-color: white;}#sk-container-id-4 pre{padding: 0;}#sk-container-id-4 div.sk-toggleable {background-color: white;}#sk-container-id-4 label.sk-toggleable__label {cursor: pointer;display: block;width: 100%;margin-bottom: 0;padding: 0.3em;box-sizing: border-box;text-align: center;}#sk-container-id-4 label.sk-toggleable__label-arrow:before {content: \"▸\";float: left;margin-right: 0.25em;color: #696969;}#sk-container-id-4 label.sk-toggleable__label-arrow:hover:before {color: black;}#sk-container-id-4 div.sk-estimator:hover label.sk-toggleable__label-arrow:before {color: black;}#sk-container-id-4 div.sk-toggleable__content {max-height: 0;max-width: 0;overflow: hidden;text-align: left;background-color: #f0f8ff;}#sk-container-id-4 div.sk-toggleable__content pre {margin: 0.2em;color: black;border-radius: 0.25em;background-color: #f0f8ff;}#sk-container-id-4 input.sk-toggleable__control:checked~div.sk-toggleable__content {max-height: 200px;max-width: 100%;overflow: auto;}#sk-container-id-4 input.sk-toggleable__control:checked~label.sk-toggleable__label-arrow:before {content: \"▾\";}#sk-container-id-4 div.sk-estimator input.sk-toggleable__control:checked~label.sk-toggleable__label {background-color: #d4ebff;}#sk-container-id-4 div.sk-label input.sk-toggleable__control:checked~label.sk-toggleable__label {background-color: #d4ebff;}#sk-container-id-4 input.sk-hidden--visually {border: 0;clip: rect(1px 1px 1px 1px);clip: rect(1px, 1px, 1px, 1px);height: 1px;margin: -1px;overflow: hidden;padding: 0;position: absolute;width: 1px;}#sk-container-id-4 div.sk-estimator {font-family: monospace;background-color: #f0f8ff;border: 1px dotted black;border-radius: 0.25em;box-sizing: border-box;margin-bottom: 0.5em;}#sk-container-id-4 div.sk-estimator:hover {background-color: #d4ebff;}#sk-container-id-4 div.sk-parallel-item::after {content: \"\";width: 100%;border-bottom: 1px solid gray;flex-grow: 1;}#sk-container-id-4 div.sk-label:hover label.sk-toggleable__label {background-color: #d4ebff;}#sk-container-id-4 div.sk-serial::before {content: \"\";position: absolute;border-left: 1px solid gray;box-sizing: border-box;top: 0;bottom: 0;left: 50%;z-index: 0;}#sk-container-id-4 div.sk-serial {display: flex;flex-direction: column;align-items: center;background-color: white;padding-right: 0.2em;padding-left: 0.2em;position: relative;}#sk-container-id-4 div.sk-item {position: relative;z-index: 1;}#sk-container-id-4 div.sk-parallel {display: flex;align-items: stretch;justify-content: center;background-color: white;position: relative;}#sk-container-id-4 div.sk-item::before, #sk-container-id-4 div.sk-parallel-item::before {content: \"\";position: absolute;border-left: 1px solid gray;box-sizing: border-box;top: 0;bottom: 0;left: 50%;z-index: -1;}#sk-container-id-4 div.sk-parallel-item {display: flex;flex-direction: column;z-index: 1;position: relative;background-color: white;}#sk-container-id-4 div.sk-parallel-item:first-child::after {align-self: flex-end;width: 50%;}#sk-container-id-4 div.sk-parallel-item:last-child::after {align-self: flex-start;width: 50%;}#sk-container-id-4 div.sk-parallel-item:only-child::after {width: 0;}#sk-container-id-4 div.sk-dashed-wrapped {border: 1px dashed gray;margin: 0 0.4em 0.5em 0.4em;box-sizing: border-box;padding-bottom: 0.4em;background-color: white;}#sk-container-id-4 div.sk-label label {font-family: monospace;font-weight: bold;display: inline-block;line-height: 1.2em;}#sk-container-id-4 div.sk-label-container {text-align: center;}#sk-container-id-4 div.sk-container {/* jupyter's `normalize.less` sets `[hidden] { display: none; }` but bootstrap.min.css set `[hidden] { display: none !important; }` so we also need the `!important` here to be able to override the default hidden behavior on the sphinx rendered scikit-learn.org. See: https://github.com/scikit-learn/scikit-learn/issues/21755 */display: inline-block !important;position: relative;}#sk-container-id-4 div.sk-text-repr-fallback {display: none;}</style><div id=\"sk-container-id-4\" class=\"sk-top-container\"><div class=\"sk-text-repr-fallback\"><pre>GridSearchCV(cv=5, estimator=SVR(),\n",
       "             param_grid=[{&#x27;C&#x27;: [10.0, 100.0, 1000.0, 10000.0],\n",
       "                          &#x27;kernel&#x27;: [&#x27;linear&#x27;]},\n",
       "                         {&#x27;C&#x27;: [1.0, 10.0, 100.0, 1000.0],\n",
       "                          &#x27;gamma&#x27;: [0.01, 0.1, 1.0], &#x27;kernel&#x27;: [&#x27;rbf&#x27;]}],\n",
       "             scoring=&#x27;neg_mean_squared_error&#x27;, verbose=2)</pre><b>In a Jupyter environment, please rerun this cell to show the HTML representation or trust the notebook. <br />On GitHub, the HTML representation is unable to render, please try loading this page with nbviewer.org.</b></div><div class=\"sk-container\" hidden><div class=\"sk-item sk-dashed-wrapped\"><div class=\"sk-label-container\"><div class=\"sk-label sk-toggleable\"><input class=\"sk-toggleable__control sk-hidden--visually\" id=\"sk-estimator-id-8\" type=\"checkbox\" ><label for=\"sk-estimator-id-8\" class=\"sk-toggleable__label sk-toggleable__label-arrow\">GridSearchCV</label><div class=\"sk-toggleable__content\"><pre>GridSearchCV(cv=5, estimator=SVR(),\n",
       "             param_grid=[{&#x27;C&#x27;: [10.0, 100.0, 1000.0, 10000.0],\n",
       "                          &#x27;kernel&#x27;: [&#x27;linear&#x27;]},\n",
       "                         {&#x27;C&#x27;: [1.0, 10.0, 100.0, 1000.0],\n",
       "                          &#x27;gamma&#x27;: [0.01, 0.1, 1.0], &#x27;kernel&#x27;: [&#x27;rbf&#x27;]}],\n",
       "             scoring=&#x27;neg_mean_squared_error&#x27;, verbose=2)</pre></div></div></div><div class=\"sk-parallel\"><div class=\"sk-parallel-item\"><div class=\"sk-item\"><div class=\"sk-label-container\"><div class=\"sk-label sk-toggleable\"><input class=\"sk-toggleable__control sk-hidden--visually\" id=\"sk-estimator-id-9\" type=\"checkbox\" ><label for=\"sk-estimator-id-9\" class=\"sk-toggleable__label sk-toggleable__label-arrow\">estimator: SVR</label><div class=\"sk-toggleable__content\"><pre>SVR()</pre></div></div></div><div class=\"sk-serial\"><div class=\"sk-item\"><div class=\"sk-estimator sk-toggleable\"><input class=\"sk-toggleable__control sk-hidden--visually\" id=\"sk-estimator-id-10\" type=\"checkbox\" ><label for=\"sk-estimator-id-10\" class=\"sk-toggleable__label sk-toggleable__label-arrow\">SVR</label><div class=\"sk-toggleable__content\"><pre>SVR()</pre></div></div></div></div></div></div></div></div></div></div>"
      ],
      "text/plain": [
       "GridSearchCV(cv=5, estimator=SVR(),\n",
       "             param_grid=[{'C': [10.0, 100.0, 1000.0, 10000.0],\n",
       "                          'kernel': ['linear']},\n",
       "                         {'C': [1.0, 10.0, 100.0, 1000.0],\n",
       "                          'gamma': [0.01, 0.1, 1.0], 'kernel': ['rbf']}],\n",
       "             scoring='neg_mean_squared_error', verbose=2)"
      ]
     },
     "execution_count": 31,
     "metadata": {},
     "output_type": "execute_result"
    }
   ],
   "source": [
    "param_grid = [{'kernel': ['linear'], 'C': [10., 100., 1000., 10000.]},\n",
    "        {'kernel': ['rbf'], 'C': [1.0, 10., 100., 1000.0],'gamma': [0.01, 0.1, 1.0]}]\n",
    "\n",
    "svm_reg_gridsearch = SVR()\n",
    "\n",
    "svm_grid_search = GridSearchCV(svm_reg_gridsearch, param_grid, cv=5, scoring='neg_mean_squared_error', verbose=2)\n",
    "\n",
    "svm_grid_search.fit(housing_X_train_prepared, housing_y_train)"
   ]
  },
  {
   "cell_type": "code",
   "execution_count": 32,
   "id": "75beaf0c",
   "metadata": {},
   "outputs": [
    {
     "data": {
      "text/plain": [
       "{'C': 10000.0, 'kernel': 'linear'}"
      ]
     },
     "execution_count": 32,
     "metadata": {},
     "output_type": "execute_result"
    }
   ],
   "source": [
    "svm_grid_search.best_params_"
   ]
  },
  {
   "cell_type": "markdown",
   "id": "780d71af",
   "metadata": {},
   "source": [
    "### Random Search for Decision Tree"
   ]
  },
  {
   "cell_type": "code",
   "execution_count": 33,
   "id": "844bf160",
   "metadata": {},
   "outputs": [
    {
     "data": {
      "text/html": [
       "<style>#sk-container-id-5 {color: black;background-color: white;}#sk-container-id-5 pre{padding: 0;}#sk-container-id-5 div.sk-toggleable {background-color: white;}#sk-container-id-5 label.sk-toggleable__label {cursor: pointer;display: block;width: 100%;margin-bottom: 0;padding: 0.3em;box-sizing: border-box;text-align: center;}#sk-container-id-5 label.sk-toggleable__label-arrow:before {content: \"▸\";float: left;margin-right: 0.25em;color: #696969;}#sk-container-id-5 label.sk-toggleable__label-arrow:hover:before {color: black;}#sk-container-id-5 div.sk-estimator:hover label.sk-toggleable__label-arrow:before {color: black;}#sk-container-id-5 div.sk-toggleable__content {max-height: 0;max-width: 0;overflow: hidden;text-align: left;background-color: #f0f8ff;}#sk-container-id-5 div.sk-toggleable__content pre {margin: 0.2em;color: black;border-radius: 0.25em;background-color: #f0f8ff;}#sk-container-id-5 input.sk-toggleable__control:checked~div.sk-toggleable__content {max-height: 200px;max-width: 100%;overflow: auto;}#sk-container-id-5 input.sk-toggleable__control:checked~label.sk-toggleable__label-arrow:before {content: \"▾\";}#sk-container-id-5 div.sk-estimator input.sk-toggleable__control:checked~label.sk-toggleable__label {background-color: #d4ebff;}#sk-container-id-5 div.sk-label input.sk-toggleable__control:checked~label.sk-toggleable__label {background-color: #d4ebff;}#sk-container-id-5 input.sk-hidden--visually {border: 0;clip: rect(1px 1px 1px 1px);clip: rect(1px, 1px, 1px, 1px);height: 1px;margin: -1px;overflow: hidden;padding: 0;position: absolute;width: 1px;}#sk-container-id-5 div.sk-estimator {font-family: monospace;background-color: #f0f8ff;border: 1px dotted black;border-radius: 0.25em;box-sizing: border-box;margin-bottom: 0.5em;}#sk-container-id-5 div.sk-estimator:hover {background-color: #d4ebff;}#sk-container-id-5 div.sk-parallel-item::after {content: \"\";width: 100%;border-bottom: 1px solid gray;flex-grow: 1;}#sk-container-id-5 div.sk-label:hover label.sk-toggleable__label {background-color: #d4ebff;}#sk-container-id-5 div.sk-serial::before {content: \"\";position: absolute;border-left: 1px solid gray;box-sizing: border-box;top: 0;bottom: 0;left: 50%;z-index: 0;}#sk-container-id-5 div.sk-serial {display: flex;flex-direction: column;align-items: center;background-color: white;padding-right: 0.2em;padding-left: 0.2em;position: relative;}#sk-container-id-5 div.sk-item {position: relative;z-index: 1;}#sk-container-id-5 div.sk-parallel {display: flex;align-items: stretch;justify-content: center;background-color: white;position: relative;}#sk-container-id-5 div.sk-item::before, #sk-container-id-5 div.sk-parallel-item::before {content: \"\";position: absolute;border-left: 1px solid gray;box-sizing: border-box;top: 0;bottom: 0;left: 50%;z-index: -1;}#sk-container-id-5 div.sk-parallel-item {display: flex;flex-direction: column;z-index: 1;position: relative;background-color: white;}#sk-container-id-5 div.sk-parallel-item:first-child::after {align-self: flex-end;width: 50%;}#sk-container-id-5 div.sk-parallel-item:last-child::after {align-self: flex-start;width: 50%;}#sk-container-id-5 div.sk-parallel-item:only-child::after {width: 0;}#sk-container-id-5 div.sk-dashed-wrapped {border: 1px dashed gray;margin: 0 0.4em 0.5em 0.4em;box-sizing: border-box;padding-bottom: 0.4em;background-color: white;}#sk-container-id-5 div.sk-label label {font-family: monospace;font-weight: bold;display: inline-block;line-height: 1.2em;}#sk-container-id-5 div.sk-label-container {text-align: center;}#sk-container-id-5 div.sk-container {/* jupyter's `normalize.less` sets `[hidden] { display: none; }` but bootstrap.min.css set `[hidden] { display: none !important; }` so we also need the `!important` here to be able to override the default hidden behavior on the sphinx rendered scikit-learn.org. See: https://github.com/scikit-learn/scikit-learn/issues/21755 */display: inline-block !important;position: relative;}#sk-container-id-5 div.sk-text-repr-fallback {display: none;}</style><div id=\"sk-container-id-5\" class=\"sk-top-container\"><div class=\"sk-text-repr-fallback\"><pre>RandomizedSearchCV(cv=5, estimator=DecisionTreeRegressor(random_state=42),\n",
       "                   param_distributions=[{&#x27;ccp_alpha&#x27;: [0.0, 0.01, 0.05, 0.1],\n",
       "                                         &#x27;max_depth&#x27;: [1, 5, 10],\n",
       "                                         &#x27;max_leaf_nodes&#x27;: [5, 10, 50],\n",
       "                                         &#x27;min_samples_leaf&#x27;: [1, 5, 10],\n",
       "                                         &#x27;min_samples_split&#x27;: [5, 10],\n",
       "                                         &#x27;min_weight_fraction_leaf&#x27;: [0.0,\n",
       "                                                                      0.5]}],\n",
       "                   random_state=42, scoring=&#x27;neg_mean_squared_error&#x27;)</pre><b>In a Jupyter environment, please rerun this cell to show the HTML representation or trust the notebook. <br />On GitHub, the HTML representation is unable to render, please try loading this page with nbviewer.org.</b></div><div class=\"sk-container\" hidden><div class=\"sk-item sk-dashed-wrapped\"><div class=\"sk-label-container\"><div class=\"sk-label sk-toggleable\"><input class=\"sk-toggleable__control sk-hidden--visually\" id=\"sk-estimator-id-11\" type=\"checkbox\" ><label for=\"sk-estimator-id-11\" class=\"sk-toggleable__label sk-toggleable__label-arrow\">RandomizedSearchCV</label><div class=\"sk-toggleable__content\"><pre>RandomizedSearchCV(cv=5, estimator=DecisionTreeRegressor(random_state=42),\n",
       "                   param_distributions=[{&#x27;ccp_alpha&#x27;: [0.0, 0.01, 0.05, 0.1],\n",
       "                                         &#x27;max_depth&#x27;: [1, 5, 10],\n",
       "                                         &#x27;max_leaf_nodes&#x27;: [5, 10, 50],\n",
       "                                         &#x27;min_samples_leaf&#x27;: [1, 5, 10],\n",
       "                                         &#x27;min_samples_split&#x27;: [5, 10],\n",
       "                                         &#x27;min_weight_fraction_leaf&#x27;: [0.0,\n",
       "                                                                      0.5]}],\n",
       "                   random_state=42, scoring=&#x27;neg_mean_squared_error&#x27;)</pre></div></div></div><div class=\"sk-parallel\"><div class=\"sk-parallel-item\"><div class=\"sk-item\"><div class=\"sk-label-container\"><div class=\"sk-label sk-toggleable\"><input class=\"sk-toggleable__control sk-hidden--visually\" id=\"sk-estimator-id-12\" type=\"checkbox\" ><label for=\"sk-estimator-id-12\" class=\"sk-toggleable__label sk-toggleable__label-arrow\">estimator: DecisionTreeRegressor</label><div class=\"sk-toggleable__content\"><pre>DecisionTreeRegressor(random_state=42)</pre></div></div></div><div class=\"sk-serial\"><div class=\"sk-item\"><div class=\"sk-estimator sk-toggleable\"><input class=\"sk-toggleable__control sk-hidden--visually\" id=\"sk-estimator-id-13\" type=\"checkbox\" ><label for=\"sk-estimator-id-13\" class=\"sk-toggleable__label sk-toggleable__label-arrow\">DecisionTreeRegressor</label><div class=\"sk-toggleable__content\"><pre>DecisionTreeRegressor(random_state=42)</pre></div></div></div></div></div></div></div></div></div></div>"
      ],
      "text/plain": [
       "RandomizedSearchCV(cv=5, estimator=DecisionTreeRegressor(random_state=42),\n",
       "                   param_distributions=[{'ccp_alpha': [0.0, 0.01, 0.05, 0.1],\n",
       "                                         'max_depth': [1, 5, 10],\n",
       "                                         'max_leaf_nodes': [5, 10, 50],\n",
       "                                         'min_samples_leaf': [1, 5, 10],\n",
       "                                         'min_samples_split': [5, 10],\n",
       "                                         'min_weight_fraction_leaf': [0.0,\n",
       "                                                                      0.5]}],\n",
       "                   random_state=42, scoring='neg_mean_squared_error')"
      ]
     },
     "execution_count": 33,
     "metadata": {},
     "output_type": "execute_result"
    }
   ],
   "source": [
    "from sklearn.model_selection import RandomizedSearchCV\n",
    "\n",
    "tree_reg_randsearch = DecisionTreeRegressor(random_state=42)\n",
    "\n",
    "param_distribs = [{'max_depth': [1, 5, 10], 'min_samples_split': [5,10], 'min_samples_leaf': [1,5,10],\n",
    "               'max_leaf_nodes': [5,10,50], 'min_weight_fraction_leaf': [0.0, 0.5], 'ccp_alpha': [0.0, 0.01, 0.05, 0.1]}]\n",
    "\n",
    "\n",
    "tree_randsearch = RandomizedSearchCV(tree_reg_randsearch, param_distributions=param_distribs,\n",
    "                           n_iter=10, cv=5, scoring='neg_mean_squared_error', random_state=42)\n",
    "\n",
    "tree_randsearch.fit(housing_X_train_prepared, housing_y_train)"
   ]
  },
  {
   "cell_type": "code",
   "execution_count": 34,
   "id": "9a3c48e8",
   "metadata": {},
   "outputs": [
    {
     "data": {
      "text/plain": [
       "{'min_weight_fraction_leaf': 0.0,\n",
       " 'min_samples_split': 5,\n",
       " 'min_samples_leaf': 5,\n",
       " 'max_leaf_nodes': 50,\n",
       " 'max_depth': 10,\n",
       " 'ccp_alpha': 0.1}"
      ]
     },
     "execution_count": 34,
     "metadata": {},
     "output_type": "execute_result"
    }
   ],
   "source": [
    "tree_randsearch.best_params_"
   ]
  },
  {
   "cell_type": "markdown",
   "id": "3cb86f9f",
   "metadata": {},
   "source": [
    "### Random Search for Random Forest"
   ]
  },
  {
   "cell_type": "code",
   "execution_count": 35,
   "id": "2a66b593",
   "metadata": {},
   "outputs": [
    {
     "data": {
      "text/html": [
       "<style>#sk-container-id-6 {color: black;background-color: white;}#sk-container-id-6 pre{padding: 0;}#sk-container-id-6 div.sk-toggleable {background-color: white;}#sk-container-id-6 label.sk-toggleable__label {cursor: pointer;display: block;width: 100%;margin-bottom: 0;padding: 0.3em;box-sizing: border-box;text-align: center;}#sk-container-id-6 label.sk-toggleable__label-arrow:before {content: \"▸\";float: left;margin-right: 0.25em;color: #696969;}#sk-container-id-6 label.sk-toggleable__label-arrow:hover:before {color: black;}#sk-container-id-6 div.sk-estimator:hover label.sk-toggleable__label-arrow:before {color: black;}#sk-container-id-6 div.sk-toggleable__content {max-height: 0;max-width: 0;overflow: hidden;text-align: left;background-color: #f0f8ff;}#sk-container-id-6 div.sk-toggleable__content pre {margin: 0.2em;color: black;border-radius: 0.25em;background-color: #f0f8ff;}#sk-container-id-6 input.sk-toggleable__control:checked~div.sk-toggleable__content {max-height: 200px;max-width: 100%;overflow: auto;}#sk-container-id-6 input.sk-toggleable__control:checked~label.sk-toggleable__label-arrow:before {content: \"▾\";}#sk-container-id-6 div.sk-estimator input.sk-toggleable__control:checked~label.sk-toggleable__label {background-color: #d4ebff;}#sk-container-id-6 div.sk-label input.sk-toggleable__control:checked~label.sk-toggleable__label {background-color: #d4ebff;}#sk-container-id-6 input.sk-hidden--visually {border: 0;clip: rect(1px 1px 1px 1px);clip: rect(1px, 1px, 1px, 1px);height: 1px;margin: -1px;overflow: hidden;padding: 0;position: absolute;width: 1px;}#sk-container-id-6 div.sk-estimator {font-family: monospace;background-color: #f0f8ff;border: 1px dotted black;border-radius: 0.25em;box-sizing: border-box;margin-bottom: 0.5em;}#sk-container-id-6 div.sk-estimator:hover {background-color: #d4ebff;}#sk-container-id-6 div.sk-parallel-item::after {content: \"\";width: 100%;border-bottom: 1px solid gray;flex-grow: 1;}#sk-container-id-6 div.sk-label:hover label.sk-toggleable__label {background-color: #d4ebff;}#sk-container-id-6 div.sk-serial::before {content: \"\";position: absolute;border-left: 1px solid gray;box-sizing: border-box;top: 0;bottom: 0;left: 50%;z-index: 0;}#sk-container-id-6 div.sk-serial {display: flex;flex-direction: column;align-items: center;background-color: white;padding-right: 0.2em;padding-left: 0.2em;position: relative;}#sk-container-id-6 div.sk-item {position: relative;z-index: 1;}#sk-container-id-6 div.sk-parallel {display: flex;align-items: stretch;justify-content: center;background-color: white;position: relative;}#sk-container-id-6 div.sk-item::before, #sk-container-id-6 div.sk-parallel-item::before {content: \"\";position: absolute;border-left: 1px solid gray;box-sizing: border-box;top: 0;bottom: 0;left: 50%;z-index: -1;}#sk-container-id-6 div.sk-parallel-item {display: flex;flex-direction: column;z-index: 1;position: relative;background-color: white;}#sk-container-id-6 div.sk-parallel-item:first-child::after {align-self: flex-end;width: 50%;}#sk-container-id-6 div.sk-parallel-item:last-child::after {align-self: flex-start;width: 50%;}#sk-container-id-6 div.sk-parallel-item:only-child::after {width: 0;}#sk-container-id-6 div.sk-dashed-wrapped {border: 1px dashed gray;margin: 0 0.4em 0.5em 0.4em;box-sizing: border-box;padding-bottom: 0.4em;background-color: white;}#sk-container-id-6 div.sk-label label {font-family: monospace;font-weight: bold;display: inline-block;line-height: 1.2em;}#sk-container-id-6 div.sk-label-container {text-align: center;}#sk-container-id-6 div.sk-container {/* jupyter's `normalize.less` sets `[hidden] { display: none; }` but bootstrap.min.css set `[hidden] { display: none !important; }` so we also need the `!important` here to be able to override the default hidden behavior on the sphinx rendered scikit-learn.org. See: https://github.com/scikit-learn/scikit-learn/issues/21755 */display: inline-block !important;position: relative;}#sk-container-id-6 div.sk-text-repr-fallback {display: none;}</style><div id=\"sk-container-id-6\" class=\"sk-top-container\"><div class=\"sk-text-repr-fallback\"><pre>RandomizedSearchCV(cv=5, estimator=RandomForestRegressor(random_state=42),\n",
       "                   param_distributions=[{&#x27;bootstrap&#x27;: [True],\n",
       "                                         &#x27;max_features&#x27;: &lt;scipy.stats._distn_infrastructure.rv_discrete_frozen object at 0x000002C8731EDCC0&gt;,\n",
       "                                         &#x27;n_estimators&#x27;: &lt;scipy.stats._distn_infrastructure.rv_discrete_frozen object at 0x000002C872D89330&gt;},\n",
       "                                        {&#x27;bootstrap&#x27;: [False],\n",
       "                                         &#x27;max_features&#x27;: &lt;scipy.stats._distn_infrastructure.rv_discrete_frozen object at 0x000002C872D4EA10&gt;,\n",
       "                                         &#x27;n_estimators&#x27;: &lt;scipy.stats._distn_infrastructure.rv_discrete_frozen object at 0x000002C8731EC9D0&gt;}],\n",
       "                   random_state=42, scoring=&#x27;neg_mean_squared_error&#x27;)</pre><b>In a Jupyter environment, please rerun this cell to show the HTML representation or trust the notebook. <br />On GitHub, the HTML representation is unable to render, please try loading this page with nbviewer.org.</b></div><div class=\"sk-container\" hidden><div class=\"sk-item sk-dashed-wrapped\"><div class=\"sk-label-container\"><div class=\"sk-label sk-toggleable\"><input class=\"sk-toggleable__control sk-hidden--visually\" id=\"sk-estimator-id-14\" type=\"checkbox\" ><label for=\"sk-estimator-id-14\" class=\"sk-toggleable__label sk-toggleable__label-arrow\">RandomizedSearchCV</label><div class=\"sk-toggleable__content\"><pre>RandomizedSearchCV(cv=5, estimator=RandomForestRegressor(random_state=42),\n",
       "                   param_distributions=[{&#x27;bootstrap&#x27;: [True],\n",
       "                                         &#x27;max_features&#x27;: &lt;scipy.stats._distn_infrastructure.rv_discrete_frozen object at 0x000002C8731EDCC0&gt;,\n",
       "                                         &#x27;n_estimators&#x27;: &lt;scipy.stats._distn_infrastructure.rv_discrete_frozen object at 0x000002C872D89330&gt;},\n",
       "                                        {&#x27;bootstrap&#x27;: [False],\n",
       "                                         &#x27;max_features&#x27;: &lt;scipy.stats._distn_infrastructure.rv_discrete_frozen object at 0x000002C872D4EA10&gt;,\n",
       "                                         &#x27;n_estimators&#x27;: &lt;scipy.stats._distn_infrastructure.rv_discrete_frozen object at 0x000002C8731EC9D0&gt;}],\n",
       "                   random_state=42, scoring=&#x27;neg_mean_squared_error&#x27;)</pre></div></div></div><div class=\"sk-parallel\"><div class=\"sk-parallel-item\"><div class=\"sk-item\"><div class=\"sk-label-container\"><div class=\"sk-label sk-toggleable\"><input class=\"sk-toggleable__control sk-hidden--visually\" id=\"sk-estimator-id-15\" type=\"checkbox\" ><label for=\"sk-estimator-id-15\" class=\"sk-toggleable__label sk-toggleable__label-arrow\">estimator: RandomForestRegressor</label><div class=\"sk-toggleable__content\"><pre>RandomForestRegressor(random_state=42)</pre></div></div></div><div class=\"sk-serial\"><div class=\"sk-item\"><div class=\"sk-estimator sk-toggleable\"><input class=\"sk-toggleable__control sk-hidden--visually\" id=\"sk-estimator-id-16\" type=\"checkbox\" ><label for=\"sk-estimator-id-16\" class=\"sk-toggleable__label sk-toggleable__label-arrow\">RandomForestRegressor</label><div class=\"sk-toggleable__content\"><pre>RandomForestRegressor(random_state=42)</pre></div></div></div></div></div></div></div></div></div></div>"
      ],
      "text/plain": [
       "RandomizedSearchCV(cv=5, estimator=RandomForestRegressor(random_state=42),\n",
       "                   param_distributions=[{'bootstrap': [True],\n",
       "                                         'max_features': <scipy.stats._distn_infrastructure.rv_discrete_frozen object at 0x000002C8731EDCC0>,\n",
       "                                         'n_estimators': <scipy.stats._distn_infrastructure.rv_discrete_frozen object at 0x000002C872D89330>},\n",
       "                                        {'bootstrap': [False],\n",
       "                                         'max_features': <scipy.stats._distn_infrastructure.rv_discrete_frozen object at 0x000002C872D4EA10>,\n",
       "                                         'n_estimators': <scipy.stats._distn_infrastructure.rv_discrete_frozen object at 0x000002C8731EC9D0>}],\n",
       "                   random_state=42, scoring='neg_mean_squared_error')"
      ]
     },
     "execution_count": 35,
     "metadata": {},
     "output_type": "execute_result"
    }
   ],
   "source": [
    "from scipy.stats import randint\n",
    "\n",
    "param_distribs = [{'bootstrap': [True], 'n_estimators': randint(low=3, high=200), 'max_features': randint(low=1, high=8)},\n",
    "              {'bootstrap': [False], 'n_estimators': randint(low=3, high=200), 'max_features': randint(low=1, high=8)}]\n",
    "\n",
    "random_reg_randsearch = RandomForestRegressor(random_state=42)\n",
    "\n",
    "random_randsearch = RandomizedSearchCV(random_reg_randsearch, param_distributions=param_distribs,\n",
    "                                n_iter=10, cv=5, scoring='neg_mean_squared_error', random_state=42)\n",
    "\n",
    "random_randsearch.fit(housing_X_train_prepared, housing_y_train)"
   ]
  },
  {
   "cell_type": "code",
   "execution_count": 36,
   "id": "e76adf64",
   "metadata": {},
   "outputs": [
    {
     "data": {
      "text/plain": [
       "{'bootstrap': False, 'max_features': 6, 'n_estimators': 40}"
      ]
     },
     "execution_count": 36,
     "metadata": {},
     "output_type": "execute_result"
    }
   ],
   "source": [
    "random_randsearch.best_params_"
   ]
  },
  {
   "cell_type": "markdown",
   "id": "3e849d2b",
   "metadata": {},
   "source": [
    "### Random Search for Support Vector Machine"
   ]
  },
  {
   "cell_type": "code",
   "execution_count": 37,
   "id": "0bc39fb4",
   "metadata": {},
   "outputs": [
    {
     "name": "stdout",
     "output_type": "stream",
     "text": [
      "Fitting 5 folds for each of 10 candidates, totalling 50 fits\n",
      "[CV] END .......................C=509, gamma=1.0, kernel=rbf; total time=  13.1s\n",
      "[CV] END .......................C=509, gamma=1.0, kernel=rbf; total time=   9.3s\n",
      "[CV] END .......................C=509, gamma=1.0, kernel=rbf; total time=   9.3s\n",
      "[CV] END .......................C=509, gamma=1.0, kernel=rbf; total time=   9.3s\n",
      "[CV] END .......................C=509, gamma=1.0, kernel=rbf; total time=   9.3s\n",
      "[CV] END ..............................C=3162, kernel=linear; total time=   5.5s\n",
      "[CV] END ..............................C=3162, kernel=linear; total time=   5.7s\n",
      "[CV] END ..............................C=3162, kernel=linear; total time=   5.6s\n",
      "[CV] END ..............................C=3162, kernel=linear; total time=   5.7s\n",
      "[CV] END ..............................C=3162, kernel=linear; total time=   5.6s\n",
      "[CV] END .......................C=562, gamma=0.1, kernel=rbf; total time=   9.5s\n",
      "[CV] END .......................C=562, gamma=0.1, kernel=rbf; total time=   9.4s\n",
      "[CV] END .......................C=562, gamma=0.1, kernel=rbf; total time=   9.5s\n",
      "[CV] END .......................C=562, gamma=0.1, kernel=rbf; total time=   9.4s\n",
      "[CV] END .......................C=562, gamma=0.1, kernel=rbf; total time=   9.5s\n",
      "[CV] END .......................C=390, gamma=0.1, kernel=rbf; total time=   9.5s\n",
      "[CV] END .......................C=390, gamma=0.1, kernel=rbf; total time=   9.5s\n",
      "[CV] END .......................C=390, gamma=0.1, kernel=rbf; total time=   9.4s\n",
      "[CV] END .......................C=390, gamma=0.1, kernel=rbf; total time=   9.5s\n",
      "[CV] END .......................C=390, gamma=0.1, kernel=rbf; total time=   9.5s\n",
      "[CV] END .......................C=772, gamma=0.1, kernel=rbf; total time=   9.4s\n",
      "[CV] END .......................C=772, gamma=0.1, kernel=rbf; total time=   9.4s\n",
      "[CV] END .......................C=772, gamma=0.1, kernel=rbf; total time=   9.5s\n",
      "[CV] END .......................C=772, gamma=0.1, kernel=rbf; total time=   9.4s\n",
      "[CV] END .......................C=772, gamma=0.1, kernel=rbf; total time=   9.5s\n",
      "[CV] END ..............................C=6883, kernel=linear; total time=   6.4s\n",
      "[CV] END ..............................C=6883, kernel=linear; total time=   6.4s\n",
      "[CV] END ..............................C=6883, kernel=linear; total time=   6.0s\n",
      "[CV] END ..............................C=6883, kernel=linear; total time=   6.5s\n",
      "[CV] END ..............................C=6883, kernel=linear; total time=   6.6s\n",
      "[CV] END .......................C=162, gamma=0.1, kernel=rbf; total time=   9.7s\n",
      "[CV] END .......................C=162, gamma=0.1, kernel=rbf; total time=   9.7s\n",
      "[CV] END .......................C=162, gamma=0.1, kernel=rbf; total time=   9.7s\n",
      "[CV] END .......................C=162, gamma=0.1, kernel=rbf; total time=   9.8s\n",
      "[CV] END .......................C=162, gamma=0.1, kernel=rbf; total time=   9.7s\n",
      "[CV] END .......................C=996, gamma=0.1, kernel=rbf; total time=   9.5s\n",
      "[CV] END .......................C=996, gamma=0.1, kernel=rbf; total time=   9.6s\n",
      "[CV] END .......................C=996, gamma=0.1, kernel=rbf; total time=   9.4s\n",
      "[CV] END .......................C=996, gamma=0.1, kernel=rbf; total time=   9.4s\n",
      "[CV] END .......................C=996, gamma=0.1, kernel=rbf; total time=   9.3s\n",
      "[CV] END ..............................C=7639, kernel=linear; total time=   6.5s\n",
      "[CV] END ..............................C=7639, kernel=linear; total time=   6.2s\n",
      "[CV] END ..............................C=7639, kernel=linear; total time=   6.2s\n",
      "[CV] END ..............................C=7639, kernel=linear; total time=   6.3s\n",
      "[CV] END ..............................C=7639, kernel=linear; total time=   6.3s\n",
      "[CV] END ..............................C=9477, kernel=linear; total time=   6.8s\n",
      "[CV] END ..............................C=9477, kernel=linear; total time=   6.7s\n",
      "[CV] END ..............................C=9477, kernel=linear; total time=   6.3s\n",
      "[CV] END ..............................C=9477, kernel=linear; total time=   7.2s\n",
      "[CV] END ..............................C=9477, kernel=linear; total time=   6.6s\n"
     ]
    },
    {
     "data": {
      "text/html": [
       "<style>#sk-container-id-7 {color: black;background-color: white;}#sk-container-id-7 pre{padding: 0;}#sk-container-id-7 div.sk-toggleable {background-color: white;}#sk-container-id-7 label.sk-toggleable__label {cursor: pointer;display: block;width: 100%;margin-bottom: 0;padding: 0.3em;box-sizing: border-box;text-align: center;}#sk-container-id-7 label.sk-toggleable__label-arrow:before {content: \"▸\";float: left;margin-right: 0.25em;color: #696969;}#sk-container-id-7 label.sk-toggleable__label-arrow:hover:before {color: black;}#sk-container-id-7 div.sk-estimator:hover label.sk-toggleable__label-arrow:before {color: black;}#sk-container-id-7 div.sk-toggleable__content {max-height: 0;max-width: 0;overflow: hidden;text-align: left;background-color: #f0f8ff;}#sk-container-id-7 div.sk-toggleable__content pre {margin: 0.2em;color: black;border-radius: 0.25em;background-color: #f0f8ff;}#sk-container-id-7 input.sk-toggleable__control:checked~div.sk-toggleable__content {max-height: 200px;max-width: 100%;overflow: auto;}#sk-container-id-7 input.sk-toggleable__control:checked~label.sk-toggleable__label-arrow:before {content: \"▾\";}#sk-container-id-7 div.sk-estimator input.sk-toggleable__control:checked~label.sk-toggleable__label {background-color: #d4ebff;}#sk-container-id-7 div.sk-label input.sk-toggleable__control:checked~label.sk-toggleable__label {background-color: #d4ebff;}#sk-container-id-7 input.sk-hidden--visually {border: 0;clip: rect(1px 1px 1px 1px);clip: rect(1px, 1px, 1px, 1px);height: 1px;margin: -1px;overflow: hidden;padding: 0;position: absolute;width: 1px;}#sk-container-id-7 div.sk-estimator {font-family: monospace;background-color: #f0f8ff;border: 1px dotted black;border-radius: 0.25em;box-sizing: border-box;margin-bottom: 0.5em;}#sk-container-id-7 div.sk-estimator:hover {background-color: #d4ebff;}#sk-container-id-7 div.sk-parallel-item::after {content: \"\";width: 100%;border-bottom: 1px solid gray;flex-grow: 1;}#sk-container-id-7 div.sk-label:hover label.sk-toggleable__label {background-color: #d4ebff;}#sk-container-id-7 div.sk-serial::before {content: \"\";position: absolute;border-left: 1px solid gray;box-sizing: border-box;top: 0;bottom: 0;left: 50%;z-index: 0;}#sk-container-id-7 div.sk-serial {display: flex;flex-direction: column;align-items: center;background-color: white;padding-right: 0.2em;padding-left: 0.2em;position: relative;}#sk-container-id-7 div.sk-item {position: relative;z-index: 1;}#sk-container-id-7 div.sk-parallel {display: flex;align-items: stretch;justify-content: center;background-color: white;position: relative;}#sk-container-id-7 div.sk-item::before, #sk-container-id-7 div.sk-parallel-item::before {content: \"\";position: absolute;border-left: 1px solid gray;box-sizing: border-box;top: 0;bottom: 0;left: 50%;z-index: -1;}#sk-container-id-7 div.sk-parallel-item {display: flex;flex-direction: column;z-index: 1;position: relative;background-color: white;}#sk-container-id-7 div.sk-parallel-item:first-child::after {align-self: flex-end;width: 50%;}#sk-container-id-7 div.sk-parallel-item:last-child::after {align-self: flex-start;width: 50%;}#sk-container-id-7 div.sk-parallel-item:only-child::after {width: 0;}#sk-container-id-7 div.sk-dashed-wrapped {border: 1px dashed gray;margin: 0 0.4em 0.5em 0.4em;box-sizing: border-box;padding-bottom: 0.4em;background-color: white;}#sk-container-id-7 div.sk-label label {font-family: monospace;font-weight: bold;display: inline-block;line-height: 1.2em;}#sk-container-id-7 div.sk-label-container {text-align: center;}#sk-container-id-7 div.sk-container {/* jupyter's `normalize.less` sets `[hidden] { display: none; }` but bootstrap.min.css set `[hidden] { display: none !important; }` so we also need the `!important` here to be able to override the default hidden behavior on the sphinx rendered scikit-learn.org. See: https://github.com/scikit-learn/scikit-learn/issues/21755 */display: inline-block !important;position: relative;}#sk-container-id-7 div.sk-text-repr-fallback {display: none;}</style><div id=\"sk-container-id-7\" class=\"sk-top-container\"><div class=\"sk-text-repr-fallback\"><pre>RandomizedSearchCV(cv=5, estimator=SVR(),\n",
       "                   param_distributions=[{&#x27;C&#x27;: &lt;scipy.stats._distn_infrastructure.rv_discrete_frozen object at 0x000002C8731ABBE0&gt;,\n",
       "                                         &#x27;kernel&#x27;: [&#x27;linear&#x27;]},\n",
       "                                        {&#x27;C&#x27;: &lt;scipy.stats._distn_infrastructure.rv_discrete_frozen object at 0x000002C830A680D0&gt;,\n",
       "                                         &#x27;gamma&#x27;: [0.01, 0.1, 1.0],\n",
       "                                         &#x27;kernel&#x27;: [&#x27;rbf&#x27;]}],\n",
       "                   scoring=&#x27;neg_mean_squared_error&#x27;, verbose=2)</pre><b>In a Jupyter environment, please rerun this cell to show the HTML representation or trust the notebook. <br />On GitHub, the HTML representation is unable to render, please try loading this page with nbviewer.org.</b></div><div class=\"sk-container\" hidden><div class=\"sk-item sk-dashed-wrapped\"><div class=\"sk-label-container\"><div class=\"sk-label sk-toggleable\"><input class=\"sk-toggleable__control sk-hidden--visually\" id=\"sk-estimator-id-17\" type=\"checkbox\" ><label for=\"sk-estimator-id-17\" class=\"sk-toggleable__label sk-toggleable__label-arrow\">RandomizedSearchCV</label><div class=\"sk-toggleable__content\"><pre>RandomizedSearchCV(cv=5, estimator=SVR(),\n",
       "                   param_distributions=[{&#x27;C&#x27;: &lt;scipy.stats._distn_infrastructure.rv_discrete_frozen object at 0x000002C8731ABBE0&gt;,\n",
       "                                         &#x27;kernel&#x27;: [&#x27;linear&#x27;]},\n",
       "                                        {&#x27;C&#x27;: &lt;scipy.stats._distn_infrastructure.rv_discrete_frozen object at 0x000002C830A680D0&gt;,\n",
       "                                         &#x27;gamma&#x27;: [0.01, 0.1, 1.0],\n",
       "                                         &#x27;kernel&#x27;: [&#x27;rbf&#x27;]}],\n",
       "                   scoring=&#x27;neg_mean_squared_error&#x27;, verbose=2)</pre></div></div></div><div class=\"sk-parallel\"><div class=\"sk-parallel-item\"><div class=\"sk-item\"><div class=\"sk-label-container\"><div class=\"sk-label sk-toggleable\"><input class=\"sk-toggleable__control sk-hidden--visually\" id=\"sk-estimator-id-18\" type=\"checkbox\" ><label for=\"sk-estimator-id-18\" class=\"sk-toggleable__label sk-toggleable__label-arrow\">estimator: SVR</label><div class=\"sk-toggleable__content\"><pre>SVR()</pre></div></div></div><div class=\"sk-serial\"><div class=\"sk-item\"><div class=\"sk-estimator sk-toggleable\"><input class=\"sk-toggleable__control sk-hidden--visually\" id=\"sk-estimator-id-19\" type=\"checkbox\" ><label for=\"sk-estimator-id-19\" class=\"sk-toggleable__label sk-toggleable__label-arrow\">SVR</label><div class=\"sk-toggleable__content\"><pre>SVR()</pre></div></div></div></div></div></div></div></div></div></div>"
      ],
      "text/plain": [
       "RandomizedSearchCV(cv=5, estimator=SVR(),\n",
       "                   param_distributions=[{'C': <scipy.stats._distn_infrastructure.rv_discrete_frozen object at 0x000002C8731ABBE0>,\n",
       "                                         'kernel': ['linear']},\n",
       "                                        {'C': <scipy.stats._distn_infrastructure.rv_discrete_frozen object at 0x000002C830A680D0>,\n",
       "                                         'gamma': [0.01, 0.1, 1.0],\n",
       "                                         'kernel': ['rbf']}],\n",
       "                   scoring='neg_mean_squared_error', verbose=2)"
      ]
     },
     "execution_count": 37,
     "metadata": {},
     "output_type": "execute_result"
    }
   ],
   "source": [
    "param_distribs = [{'kernel': ['linear'], 'C': randint(low=10, high=10000)},\n",
    "        {'kernel': ['rbf'], 'C': randint(low=1, high=1000),'gamma': [0.01, 0.1, 1.0]}]\n",
    "\n",
    "svm_reg_randsearch = SVR()\n",
    "\n",
    "svm_randsearch = RandomizedSearchCV(svm_reg_randsearch, param_distributions=param_distribs,\n",
    "                                    cv=5, scoring='neg_mean_squared_error', verbose=2)\n",
    "\n",
    "svm_randsearch.fit(housing_X_train_prepared, housing_y_train)"
   ]
  },
  {
   "cell_type": "code",
   "execution_count": 38,
   "id": "f61c7db9",
   "metadata": {},
   "outputs": [
    {
     "data": {
      "text/plain": [
       "{'C': 9477, 'kernel': 'linear'}"
      ]
     },
     "execution_count": 38,
     "metadata": {},
     "output_type": "execute_result"
    }
   ],
   "source": [
    "svm_randsearch.best_params_"
   ]
  },
  {
   "cell_type": "markdown",
   "id": "d3955af8",
   "metadata": {},
   "source": [
    "## Fitting Decision Tree Regression Model with optimal hyperparameters obtained from Grid Search and Random Search "
   ]
  },
  {
   "cell_type": "code",
   "execution_count": 39,
   "id": "5b191054",
   "metadata": {},
   "outputs": [],
   "source": [
    "tree_retrain_grid = DecisionTreeRegressor(ccp_alpha=0.0, max_depth=10, max_leaf_nodes=50,\n",
    "                                          min_samples_leaf=5, min_samples_split=5, min_weight_fraction_leaf=0.0)"
   ]
  },
  {
   "cell_type": "code",
   "execution_count": 40,
   "id": "07f4599a",
   "metadata": {},
   "outputs": [
    {
     "name": "stdout",
     "output_type": "stream",
     "text": [
      "Scores: [63795.79907257 60699.19743093 59563.81329264 66112.41901048\n",
      " 59624.05827777 64599.907839   63923.96731544 63475.51568326\n",
      " 60307.26092361 66861.3037524 ]\n",
      "Mean: 62896.32425981046\n",
      "Standard deviation: 2539.902793246419\n"
     ]
    }
   ],
   "source": [
    "tree_scores_grid = cross_val_score(tree_retrain_grid, housing_X_train_prepared, housing_y_train,\n",
    "                         scoring=\"neg_mean_squared_error\", cv=10)\n",
    "tree_rmse_scores_grid = np.sqrt(-tree_scores_grid)\n",
    "display_scores(tree_rmse_scores_grid)"
   ]
  },
  {
   "cell_type": "code",
   "execution_count": 41,
   "id": "6f15789d",
   "metadata": {},
   "outputs": [],
   "source": [
    "tree_retrain_rand = DecisionTreeRegressor(min_weight_fraction_leaf=0.0, min_samples_split=5,\n",
    "                                          min_samples_leaf=5, max_leaf_nodes=50, max_depth=10, ccp_alpha=0.1)"
   ]
  },
  {
   "cell_type": "code",
   "execution_count": 42,
   "id": "68613afd",
   "metadata": {},
   "outputs": [
    {
     "name": "stdout",
     "output_type": "stream",
     "text": [
      "Scores: [63795.79907257 60699.19743093 59563.81329264 66112.41901048\n",
      " 59624.05827777 64599.907839   63923.96731544 63475.51568326\n",
      " 60307.26092361 66861.3037524 ]\n",
      "Mean: 62896.32425981046\n",
      "Standard deviation: 2539.902793246419\n"
     ]
    }
   ],
   "source": [
    "tree_scores_rand = cross_val_score(tree_retrain_rand, housing_X_train_prepared, housing_y_train,\n",
    "                         scoring=\"neg_mean_squared_error\", cv=10)\n",
    "tree_rmse_scores_rand = np.sqrt(-tree_scores_rand)\n",
    "display_scores(tree_rmse_scores_rand)"
   ]
  },
  {
   "cell_type": "markdown",
   "id": "7da1e9f0",
   "metadata": {},
   "source": [
    "## Fitting Random Forest Regression Model with optimal hyperparameters obtained from Grid Search and Random Search "
   ]
  },
  {
   "cell_type": "code",
   "execution_count": 43,
   "id": "536ccd81",
   "metadata": {},
   "outputs": [],
   "source": [
    "random_retrain_grid = RandomForestRegressor(bootstrap=False, max_features=4, n_estimators=30)"
   ]
  },
  {
   "cell_type": "code",
   "execution_count": 44,
   "id": "1898c890",
   "metadata": {},
   "outputs": [
    {
     "name": "stdout",
     "output_type": "stream",
     "text": [
      "Scores: [51071.53590127 47955.57868035 46128.02749472 50770.62266515\n",
      " 47571.23719912 50583.36480772 50955.27380433 48549.37915733\n",
      " 47278.47086044 52926.63852017]\n",
      "Mean: 49379.01290905994\n",
      "Standard deviation: 2056.3466249631974\n"
     ]
    }
   ],
   "source": [
    "random_scores_grid = cross_val_score(random_retrain_grid, housing_X_train_prepared, housing_y_train,\n",
    "                         scoring=\"neg_mean_squared_error\", cv=10)\n",
    "random_rmse_scores_grid = np.sqrt(-random_scores_grid)\n",
    "display_scores(random_rmse_scores_grid)"
   ]
  },
  {
   "cell_type": "code",
   "execution_count": 45,
   "id": "4acda22e",
   "metadata": {},
   "outputs": [],
   "source": [
    "random_retrain_rand = RandomForestRegressor(bootstrap=False, max_features=6, n_estimators=40)"
   ]
  },
  {
   "cell_type": "code",
   "execution_count": 46,
   "id": "9c0fcb3c",
   "metadata": {},
   "outputs": [
    {
     "name": "stdout",
     "output_type": "stream",
     "text": [
      "Scores: [50889.50947781 47179.83784895 46135.34105595 49430.69655588\n",
      " 46098.10999009 48292.75398964 49674.02395958 47266.39547163\n",
      " 47239.67173355 52627.65711313]\n",
      "Mean: 48483.399719619556\n",
      "Standard deviation: 2030.9051050882642\n"
     ]
    }
   ],
   "source": [
    "random_scores_rand = cross_val_score(random_retrain_rand, housing_X_train_prepared, housing_y_train,\n",
    "                         scoring=\"neg_mean_squared_error\", cv=10)\n",
    "random_rmse_scores_rand = np.sqrt(-random_scores_rand)\n",
    "display_scores(random_rmse_scores_rand)"
   ]
  },
  {
   "cell_type": "markdown",
   "id": "af6c21da",
   "metadata": {},
   "source": [
    "## Fitting Support Vector Machine Regression Model with optimal hyperparameters obtained from Grid Search and Random Search "
   ]
  },
  {
   "cell_type": "code",
   "execution_count": 47,
   "id": "73afbc2d",
   "metadata": {},
   "outputs": [],
   "source": [
    "svm_retrain_grid = SVR(C=10000.0, kernel='linear')"
   ]
  },
  {
   "cell_type": "code",
   "execution_count": 48,
   "id": "dde9a55a",
   "metadata": {},
   "outputs": [
    {
     "name": "stdout",
     "output_type": "stream",
     "text": [
      "Scores: [72594.25749668 66077.21607085 67127.38810235 70239.3677623\n",
      " 67134.74071207 73922.46981788 77137.8945368  70000.30379852\n",
      " 67545.14984035 70930.05529475]\n",
      "Mean: 70270.88434325633\n",
      "Standard deviation: 3333.6185955727083\n"
     ]
    }
   ],
   "source": [
    "svm_scores_grid = cross_val_score(svm_retrain_grid, housing_X_train_prepared, housing_y_train,\n",
    "                         scoring=\"neg_mean_squared_error\", cv=10)\n",
    "svm_rmse_scores_grid = np.sqrt(-svm_scores_grid)\n",
    "display_scores(svm_rmse_scores_grid)"
   ]
  },
  {
   "cell_type": "code",
   "execution_count": 49,
   "id": "e062e3ea",
   "metadata": {},
   "outputs": [],
   "source": [
    "svm_retrain_rand = SVR(C=9477, kernel='linear')"
   ]
  },
  {
   "cell_type": "code",
   "execution_count": 50,
   "id": "b92ba6de",
   "metadata": {},
   "outputs": [
    {
     "name": "stdout",
     "output_type": "stream",
     "text": [
      "Scores: [72595.29279877 66079.38019098 67118.97210981 70243.06518784\n",
      " 67134.32591361 73921.24348722 77136.9234861  69999.86322018\n",
      " 67545.08310326 70930.15651512]\n",
      "Mean: 70270.43060128957\n",
      "Standard deviation: 3333.9256608354085\n"
     ]
    }
   ],
   "source": [
    "svm_scores_rand = cross_val_score(svm_retrain_rand, housing_X_train_prepared, housing_y_train,\n",
    "                         scoring=\"neg_mean_squared_error\", cv=10)\n",
    "svm_rmse_scores_rand = np.sqrt(-svm_scores_rand)\n",
    "display_scores(svm_rmse_scores_rand)"
   ]
  },
  {
   "cell_type": "markdown",
   "id": "82119c71",
   "metadata": {},
   "source": [
    "### Evaluating RMSE and R2 score for all the models"
   ]
  },
  {
   "cell_type": "code",
   "execution_count": 51,
   "id": "eb992962",
   "metadata": {},
   "outputs": [],
   "source": [
    "from sklearn.metrics import r2_score"
   ]
  },
  {
   "cell_type": "markdown",
   "id": "fdca963f",
   "metadata": {},
   "source": [
    "### For Linear Regression"
   ]
  },
  {
   "cell_type": "code",
   "execution_count": 52,
   "id": "8784f946",
   "metadata": {},
   "outputs": [],
   "source": [
    "linear_rmse = linear_rmse_scores\n",
    "linear_retrain = LinearRegression()"
   ]
  },
  {
   "cell_type": "code",
   "execution_count": 53,
   "id": "660c10f3",
   "metadata": {},
   "outputs": [],
   "source": [
    "linear_retrain.fit(housing_X_train_prepared, housing_y_train)\n",
    "linear_pred = linear_retrain.predict(housing_X_train_prepared)"
   ]
  },
  {
   "cell_type": "code",
   "execution_count": 54,
   "id": "b9d22871",
   "metadata": {},
   "outputs": [],
   "source": [
    "linear_r2 = r2_score(housing_y_train, linear_pred)"
   ]
  },
  {
   "cell_type": "code",
   "execution_count": 55,
   "id": "44e5716a",
   "metadata": {},
   "outputs": [
    {
     "name": "stdout",
     "output_type": "stream",
     "text": [
      "0.6481553634454353\n"
     ]
    }
   ],
   "source": [
    "print(linear_r2)"
   ]
  },
  {
   "cell_type": "markdown",
   "id": "91bfaaf9",
   "metadata": {},
   "source": [
    "### For Decision Tree"
   ]
  },
  {
   "cell_type": "code",
   "execution_count": 56,
   "id": "cad686f7",
   "metadata": {},
   "outputs": [
    {
     "data": {
      "text/html": [
       "<style>#sk-container-id-8 {color: black;background-color: white;}#sk-container-id-8 pre{padding: 0;}#sk-container-id-8 div.sk-toggleable {background-color: white;}#sk-container-id-8 label.sk-toggleable__label {cursor: pointer;display: block;width: 100%;margin-bottom: 0;padding: 0.3em;box-sizing: border-box;text-align: center;}#sk-container-id-8 label.sk-toggleable__label-arrow:before {content: \"▸\";float: left;margin-right: 0.25em;color: #696969;}#sk-container-id-8 label.sk-toggleable__label-arrow:hover:before {color: black;}#sk-container-id-8 div.sk-estimator:hover label.sk-toggleable__label-arrow:before {color: black;}#sk-container-id-8 div.sk-toggleable__content {max-height: 0;max-width: 0;overflow: hidden;text-align: left;background-color: #f0f8ff;}#sk-container-id-8 div.sk-toggleable__content pre {margin: 0.2em;color: black;border-radius: 0.25em;background-color: #f0f8ff;}#sk-container-id-8 input.sk-toggleable__control:checked~div.sk-toggleable__content {max-height: 200px;max-width: 100%;overflow: auto;}#sk-container-id-8 input.sk-toggleable__control:checked~label.sk-toggleable__label-arrow:before {content: \"▾\";}#sk-container-id-8 div.sk-estimator input.sk-toggleable__control:checked~label.sk-toggleable__label {background-color: #d4ebff;}#sk-container-id-8 div.sk-label input.sk-toggleable__control:checked~label.sk-toggleable__label {background-color: #d4ebff;}#sk-container-id-8 input.sk-hidden--visually {border: 0;clip: rect(1px 1px 1px 1px);clip: rect(1px, 1px, 1px, 1px);height: 1px;margin: -1px;overflow: hidden;padding: 0;position: absolute;width: 1px;}#sk-container-id-8 div.sk-estimator {font-family: monospace;background-color: #f0f8ff;border: 1px dotted black;border-radius: 0.25em;box-sizing: border-box;margin-bottom: 0.5em;}#sk-container-id-8 div.sk-estimator:hover {background-color: #d4ebff;}#sk-container-id-8 div.sk-parallel-item::after {content: \"\";width: 100%;border-bottom: 1px solid gray;flex-grow: 1;}#sk-container-id-8 div.sk-label:hover label.sk-toggleable__label {background-color: #d4ebff;}#sk-container-id-8 div.sk-serial::before {content: \"\";position: absolute;border-left: 1px solid gray;box-sizing: border-box;top: 0;bottom: 0;left: 50%;z-index: 0;}#sk-container-id-8 div.sk-serial {display: flex;flex-direction: column;align-items: center;background-color: white;padding-right: 0.2em;padding-left: 0.2em;position: relative;}#sk-container-id-8 div.sk-item {position: relative;z-index: 1;}#sk-container-id-8 div.sk-parallel {display: flex;align-items: stretch;justify-content: center;background-color: white;position: relative;}#sk-container-id-8 div.sk-item::before, #sk-container-id-8 div.sk-parallel-item::before {content: \"\";position: absolute;border-left: 1px solid gray;box-sizing: border-box;top: 0;bottom: 0;left: 50%;z-index: -1;}#sk-container-id-8 div.sk-parallel-item {display: flex;flex-direction: column;z-index: 1;position: relative;background-color: white;}#sk-container-id-8 div.sk-parallel-item:first-child::after {align-self: flex-end;width: 50%;}#sk-container-id-8 div.sk-parallel-item:last-child::after {align-self: flex-start;width: 50%;}#sk-container-id-8 div.sk-parallel-item:only-child::after {width: 0;}#sk-container-id-8 div.sk-dashed-wrapped {border: 1px dashed gray;margin: 0 0.4em 0.5em 0.4em;box-sizing: border-box;padding-bottom: 0.4em;background-color: white;}#sk-container-id-8 div.sk-label label {font-family: monospace;font-weight: bold;display: inline-block;line-height: 1.2em;}#sk-container-id-8 div.sk-label-container {text-align: center;}#sk-container-id-8 div.sk-container {/* jupyter's `normalize.less` sets `[hidden] { display: none; }` but bootstrap.min.css set `[hidden] { display: none !important; }` so we also need the `!important` here to be able to override the default hidden behavior on the sphinx rendered scikit-learn.org. See: https://github.com/scikit-learn/scikit-learn/issues/21755 */display: inline-block !important;position: relative;}#sk-container-id-8 div.sk-text-repr-fallback {display: none;}</style><div id=\"sk-container-id-8\" class=\"sk-top-container\"><div class=\"sk-text-repr-fallback\"><pre>DecisionTreeRegressor(max_depth=10, max_leaf_nodes=50, min_samples_leaf=5,\n",
       "                      min_samples_split=5)</pre><b>In a Jupyter environment, please rerun this cell to show the HTML representation or trust the notebook. <br />On GitHub, the HTML representation is unable to render, please try loading this page with nbviewer.org.</b></div><div class=\"sk-container\" hidden><div class=\"sk-item\"><div class=\"sk-estimator sk-toggleable\"><input class=\"sk-toggleable__control sk-hidden--visually\" id=\"sk-estimator-id-20\" type=\"checkbox\" checked><label for=\"sk-estimator-id-20\" class=\"sk-toggleable__label sk-toggleable__label-arrow\">DecisionTreeRegressor</label><div class=\"sk-toggleable__content\"><pre>DecisionTreeRegressor(max_depth=10, max_leaf_nodes=50, min_samples_leaf=5,\n",
       "                      min_samples_split=5)</pre></div></div></div></div></div>"
      ],
      "text/plain": [
       "DecisionTreeRegressor(max_depth=10, max_leaf_nodes=50, min_samples_leaf=5,\n",
       "                      min_samples_split=5)"
      ]
     },
     "execution_count": 56,
     "metadata": {},
     "output_type": "execute_result"
    }
   ],
   "source": [
    "tree_retrain_grid.fit(housing_X_train_prepared, housing_y_train)"
   ]
  },
  {
   "cell_type": "code",
   "execution_count": 57,
   "id": "96cd28ac",
   "metadata": {},
   "outputs": [
    {
     "data": {
      "text/html": [
       "<style>#sk-container-id-9 {color: black;background-color: white;}#sk-container-id-9 pre{padding: 0;}#sk-container-id-9 div.sk-toggleable {background-color: white;}#sk-container-id-9 label.sk-toggleable__label {cursor: pointer;display: block;width: 100%;margin-bottom: 0;padding: 0.3em;box-sizing: border-box;text-align: center;}#sk-container-id-9 label.sk-toggleable__label-arrow:before {content: \"▸\";float: left;margin-right: 0.25em;color: #696969;}#sk-container-id-9 label.sk-toggleable__label-arrow:hover:before {color: black;}#sk-container-id-9 div.sk-estimator:hover label.sk-toggleable__label-arrow:before {color: black;}#sk-container-id-9 div.sk-toggleable__content {max-height: 0;max-width: 0;overflow: hidden;text-align: left;background-color: #f0f8ff;}#sk-container-id-9 div.sk-toggleable__content pre {margin: 0.2em;color: black;border-radius: 0.25em;background-color: #f0f8ff;}#sk-container-id-9 input.sk-toggleable__control:checked~div.sk-toggleable__content {max-height: 200px;max-width: 100%;overflow: auto;}#sk-container-id-9 input.sk-toggleable__control:checked~label.sk-toggleable__label-arrow:before {content: \"▾\";}#sk-container-id-9 div.sk-estimator input.sk-toggleable__control:checked~label.sk-toggleable__label {background-color: #d4ebff;}#sk-container-id-9 div.sk-label input.sk-toggleable__control:checked~label.sk-toggleable__label {background-color: #d4ebff;}#sk-container-id-9 input.sk-hidden--visually {border: 0;clip: rect(1px 1px 1px 1px);clip: rect(1px, 1px, 1px, 1px);height: 1px;margin: -1px;overflow: hidden;padding: 0;position: absolute;width: 1px;}#sk-container-id-9 div.sk-estimator {font-family: monospace;background-color: #f0f8ff;border: 1px dotted black;border-radius: 0.25em;box-sizing: border-box;margin-bottom: 0.5em;}#sk-container-id-9 div.sk-estimator:hover {background-color: #d4ebff;}#sk-container-id-9 div.sk-parallel-item::after {content: \"\";width: 100%;border-bottom: 1px solid gray;flex-grow: 1;}#sk-container-id-9 div.sk-label:hover label.sk-toggleable__label {background-color: #d4ebff;}#sk-container-id-9 div.sk-serial::before {content: \"\";position: absolute;border-left: 1px solid gray;box-sizing: border-box;top: 0;bottom: 0;left: 50%;z-index: 0;}#sk-container-id-9 div.sk-serial {display: flex;flex-direction: column;align-items: center;background-color: white;padding-right: 0.2em;padding-left: 0.2em;position: relative;}#sk-container-id-9 div.sk-item {position: relative;z-index: 1;}#sk-container-id-9 div.sk-parallel {display: flex;align-items: stretch;justify-content: center;background-color: white;position: relative;}#sk-container-id-9 div.sk-item::before, #sk-container-id-9 div.sk-parallel-item::before {content: \"\";position: absolute;border-left: 1px solid gray;box-sizing: border-box;top: 0;bottom: 0;left: 50%;z-index: -1;}#sk-container-id-9 div.sk-parallel-item {display: flex;flex-direction: column;z-index: 1;position: relative;background-color: white;}#sk-container-id-9 div.sk-parallel-item:first-child::after {align-self: flex-end;width: 50%;}#sk-container-id-9 div.sk-parallel-item:last-child::after {align-self: flex-start;width: 50%;}#sk-container-id-9 div.sk-parallel-item:only-child::after {width: 0;}#sk-container-id-9 div.sk-dashed-wrapped {border: 1px dashed gray;margin: 0 0.4em 0.5em 0.4em;box-sizing: border-box;padding-bottom: 0.4em;background-color: white;}#sk-container-id-9 div.sk-label label {font-family: monospace;font-weight: bold;display: inline-block;line-height: 1.2em;}#sk-container-id-9 div.sk-label-container {text-align: center;}#sk-container-id-9 div.sk-container {/* jupyter's `normalize.less` sets `[hidden] { display: none; }` but bootstrap.min.css set `[hidden] { display: none !important; }` so we also need the `!important` here to be able to override the default hidden behavior on the sphinx rendered scikit-learn.org. See: https://github.com/scikit-learn/scikit-learn/issues/21755 */display: inline-block !important;position: relative;}#sk-container-id-9 div.sk-text-repr-fallback {display: none;}</style><div id=\"sk-container-id-9\" class=\"sk-top-container\"><div class=\"sk-text-repr-fallback\"><pre>DecisionTreeRegressor(ccp_alpha=0.1, max_depth=10, max_leaf_nodes=50,\n",
       "                      min_samples_leaf=5, min_samples_split=5)</pre><b>In a Jupyter environment, please rerun this cell to show the HTML representation or trust the notebook. <br />On GitHub, the HTML representation is unable to render, please try loading this page with nbviewer.org.</b></div><div class=\"sk-container\" hidden><div class=\"sk-item\"><div class=\"sk-estimator sk-toggleable\"><input class=\"sk-toggleable__control sk-hidden--visually\" id=\"sk-estimator-id-21\" type=\"checkbox\" checked><label for=\"sk-estimator-id-21\" class=\"sk-toggleable__label sk-toggleable__label-arrow\">DecisionTreeRegressor</label><div class=\"sk-toggleable__content\"><pre>DecisionTreeRegressor(ccp_alpha=0.1, max_depth=10, max_leaf_nodes=50,\n",
       "                      min_samples_leaf=5, min_samples_split=5)</pre></div></div></div></div></div>"
      ],
      "text/plain": [
       "DecisionTreeRegressor(ccp_alpha=0.1, max_depth=10, max_leaf_nodes=50,\n",
       "                      min_samples_leaf=5, min_samples_split=5)"
      ]
     },
     "execution_count": 57,
     "metadata": {},
     "output_type": "execute_result"
    }
   ],
   "source": [
    "tree_retrain_rand.fit(housing_X_train_prepared, housing_y_train)"
   ]
  },
  {
   "cell_type": "code",
   "execution_count": 58,
   "id": "5333c42d",
   "metadata": {},
   "outputs": [],
   "source": [
    "tree_rmse_grid = np.sqrt(sum(-tree_scores_grid)/len(tree_scores_grid))"
   ]
  },
  {
   "cell_type": "code",
   "execution_count": 59,
   "id": "0ab28eb8",
   "metadata": {},
   "outputs": [],
   "source": [
    "tree_grid_pred = tree_retrain_grid.predict(housing_X_train_prepared)"
   ]
  },
  {
   "cell_type": "code",
   "execution_count": 60,
   "id": "67e22f3a",
   "metadata": {},
   "outputs": [],
   "source": [
    "tree_grid_r2 = r2_score(housing_y_train,tree_grid_pred)"
   ]
  },
  {
   "cell_type": "code",
   "execution_count": 61,
   "id": "ca3ef931",
   "metadata": {},
   "outputs": [],
   "source": [
    "tree_rmse_rand = np.sqrt(sum(-tree_scores_rand)/len(tree_scores_rand))"
   ]
  },
  {
   "cell_type": "code",
   "execution_count": 62,
   "id": "ebee60c3",
   "metadata": {},
   "outputs": [],
   "source": [
    "tree_rand_pred = tree_retrain_rand.predict(housing_X_train_prepared)"
   ]
  },
  {
   "cell_type": "code",
   "execution_count": 63,
   "id": "ad1cfd45",
   "metadata": {},
   "outputs": [],
   "source": [
    "tree_rand_r2 = r2_score(housing_y_train,tree_rand_pred)"
   ]
  },
  {
   "cell_type": "markdown",
   "id": "2a05bb65",
   "metadata": {},
   "source": [
    "### For Random Forest"
   ]
  },
  {
   "cell_type": "code",
   "execution_count": 64,
   "id": "77c6fb8b",
   "metadata": {},
   "outputs": [
    {
     "data": {
      "text/html": [
       "<style>#sk-container-id-10 {color: black;background-color: white;}#sk-container-id-10 pre{padding: 0;}#sk-container-id-10 div.sk-toggleable {background-color: white;}#sk-container-id-10 label.sk-toggleable__label {cursor: pointer;display: block;width: 100%;margin-bottom: 0;padding: 0.3em;box-sizing: border-box;text-align: center;}#sk-container-id-10 label.sk-toggleable__label-arrow:before {content: \"▸\";float: left;margin-right: 0.25em;color: #696969;}#sk-container-id-10 label.sk-toggleable__label-arrow:hover:before {color: black;}#sk-container-id-10 div.sk-estimator:hover label.sk-toggleable__label-arrow:before {color: black;}#sk-container-id-10 div.sk-toggleable__content {max-height: 0;max-width: 0;overflow: hidden;text-align: left;background-color: #f0f8ff;}#sk-container-id-10 div.sk-toggleable__content pre {margin: 0.2em;color: black;border-radius: 0.25em;background-color: #f0f8ff;}#sk-container-id-10 input.sk-toggleable__control:checked~div.sk-toggleable__content {max-height: 200px;max-width: 100%;overflow: auto;}#sk-container-id-10 input.sk-toggleable__control:checked~label.sk-toggleable__label-arrow:before {content: \"▾\";}#sk-container-id-10 div.sk-estimator input.sk-toggleable__control:checked~label.sk-toggleable__label {background-color: #d4ebff;}#sk-container-id-10 div.sk-label input.sk-toggleable__control:checked~label.sk-toggleable__label {background-color: #d4ebff;}#sk-container-id-10 input.sk-hidden--visually {border: 0;clip: rect(1px 1px 1px 1px);clip: rect(1px, 1px, 1px, 1px);height: 1px;margin: -1px;overflow: hidden;padding: 0;position: absolute;width: 1px;}#sk-container-id-10 div.sk-estimator {font-family: monospace;background-color: #f0f8ff;border: 1px dotted black;border-radius: 0.25em;box-sizing: border-box;margin-bottom: 0.5em;}#sk-container-id-10 div.sk-estimator:hover {background-color: #d4ebff;}#sk-container-id-10 div.sk-parallel-item::after {content: \"\";width: 100%;border-bottom: 1px solid gray;flex-grow: 1;}#sk-container-id-10 div.sk-label:hover label.sk-toggleable__label {background-color: #d4ebff;}#sk-container-id-10 div.sk-serial::before {content: \"\";position: absolute;border-left: 1px solid gray;box-sizing: border-box;top: 0;bottom: 0;left: 50%;z-index: 0;}#sk-container-id-10 div.sk-serial {display: flex;flex-direction: column;align-items: center;background-color: white;padding-right: 0.2em;padding-left: 0.2em;position: relative;}#sk-container-id-10 div.sk-item {position: relative;z-index: 1;}#sk-container-id-10 div.sk-parallel {display: flex;align-items: stretch;justify-content: center;background-color: white;position: relative;}#sk-container-id-10 div.sk-item::before, #sk-container-id-10 div.sk-parallel-item::before {content: \"\";position: absolute;border-left: 1px solid gray;box-sizing: border-box;top: 0;bottom: 0;left: 50%;z-index: -1;}#sk-container-id-10 div.sk-parallel-item {display: flex;flex-direction: column;z-index: 1;position: relative;background-color: white;}#sk-container-id-10 div.sk-parallel-item:first-child::after {align-self: flex-end;width: 50%;}#sk-container-id-10 div.sk-parallel-item:last-child::after {align-self: flex-start;width: 50%;}#sk-container-id-10 div.sk-parallel-item:only-child::after {width: 0;}#sk-container-id-10 div.sk-dashed-wrapped {border: 1px dashed gray;margin: 0 0.4em 0.5em 0.4em;box-sizing: border-box;padding-bottom: 0.4em;background-color: white;}#sk-container-id-10 div.sk-label label {font-family: monospace;font-weight: bold;display: inline-block;line-height: 1.2em;}#sk-container-id-10 div.sk-label-container {text-align: center;}#sk-container-id-10 div.sk-container {/* jupyter's `normalize.less` sets `[hidden] { display: none; }` but bootstrap.min.css set `[hidden] { display: none !important; }` so we also need the `!important` here to be able to override the default hidden behavior on the sphinx rendered scikit-learn.org. See: https://github.com/scikit-learn/scikit-learn/issues/21755 */display: inline-block !important;position: relative;}#sk-container-id-10 div.sk-text-repr-fallback {display: none;}</style><div id=\"sk-container-id-10\" class=\"sk-top-container\"><div class=\"sk-text-repr-fallback\"><pre>RandomForestRegressor(bootstrap=False, max_features=4, n_estimators=30)</pre><b>In a Jupyter environment, please rerun this cell to show the HTML representation or trust the notebook. <br />On GitHub, the HTML representation is unable to render, please try loading this page with nbviewer.org.</b></div><div class=\"sk-container\" hidden><div class=\"sk-item\"><div class=\"sk-estimator sk-toggleable\"><input class=\"sk-toggleable__control sk-hidden--visually\" id=\"sk-estimator-id-22\" type=\"checkbox\" checked><label for=\"sk-estimator-id-22\" class=\"sk-toggleable__label sk-toggleable__label-arrow\">RandomForestRegressor</label><div class=\"sk-toggleable__content\"><pre>RandomForestRegressor(bootstrap=False, max_features=4, n_estimators=30)</pre></div></div></div></div></div>"
      ],
      "text/plain": [
       "RandomForestRegressor(bootstrap=False, max_features=4, n_estimators=30)"
      ]
     },
     "execution_count": 64,
     "metadata": {},
     "output_type": "execute_result"
    }
   ],
   "source": [
    "random_retrain_grid.fit(housing_X_train_prepared, housing_y_train)"
   ]
  },
  {
   "cell_type": "code",
   "execution_count": 65,
   "id": "a6382929",
   "metadata": {},
   "outputs": [
    {
     "data": {
      "text/html": [
       "<style>#sk-container-id-11 {color: black;background-color: white;}#sk-container-id-11 pre{padding: 0;}#sk-container-id-11 div.sk-toggleable {background-color: white;}#sk-container-id-11 label.sk-toggleable__label {cursor: pointer;display: block;width: 100%;margin-bottom: 0;padding: 0.3em;box-sizing: border-box;text-align: center;}#sk-container-id-11 label.sk-toggleable__label-arrow:before {content: \"▸\";float: left;margin-right: 0.25em;color: #696969;}#sk-container-id-11 label.sk-toggleable__label-arrow:hover:before {color: black;}#sk-container-id-11 div.sk-estimator:hover label.sk-toggleable__label-arrow:before {color: black;}#sk-container-id-11 div.sk-toggleable__content {max-height: 0;max-width: 0;overflow: hidden;text-align: left;background-color: #f0f8ff;}#sk-container-id-11 div.sk-toggleable__content pre {margin: 0.2em;color: black;border-radius: 0.25em;background-color: #f0f8ff;}#sk-container-id-11 input.sk-toggleable__control:checked~div.sk-toggleable__content {max-height: 200px;max-width: 100%;overflow: auto;}#sk-container-id-11 input.sk-toggleable__control:checked~label.sk-toggleable__label-arrow:before {content: \"▾\";}#sk-container-id-11 div.sk-estimator input.sk-toggleable__control:checked~label.sk-toggleable__label {background-color: #d4ebff;}#sk-container-id-11 div.sk-label input.sk-toggleable__control:checked~label.sk-toggleable__label {background-color: #d4ebff;}#sk-container-id-11 input.sk-hidden--visually {border: 0;clip: rect(1px 1px 1px 1px);clip: rect(1px, 1px, 1px, 1px);height: 1px;margin: -1px;overflow: hidden;padding: 0;position: absolute;width: 1px;}#sk-container-id-11 div.sk-estimator {font-family: monospace;background-color: #f0f8ff;border: 1px dotted black;border-radius: 0.25em;box-sizing: border-box;margin-bottom: 0.5em;}#sk-container-id-11 div.sk-estimator:hover {background-color: #d4ebff;}#sk-container-id-11 div.sk-parallel-item::after {content: \"\";width: 100%;border-bottom: 1px solid gray;flex-grow: 1;}#sk-container-id-11 div.sk-label:hover label.sk-toggleable__label {background-color: #d4ebff;}#sk-container-id-11 div.sk-serial::before {content: \"\";position: absolute;border-left: 1px solid gray;box-sizing: border-box;top: 0;bottom: 0;left: 50%;z-index: 0;}#sk-container-id-11 div.sk-serial {display: flex;flex-direction: column;align-items: center;background-color: white;padding-right: 0.2em;padding-left: 0.2em;position: relative;}#sk-container-id-11 div.sk-item {position: relative;z-index: 1;}#sk-container-id-11 div.sk-parallel {display: flex;align-items: stretch;justify-content: center;background-color: white;position: relative;}#sk-container-id-11 div.sk-item::before, #sk-container-id-11 div.sk-parallel-item::before {content: \"\";position: absolute;border-left: 1px solid gray;box-sizing: border-box;top: 0;bottom: 0;left: 50%;z-index: -1;}#sk-container-id-11 div.sk-parallel-item {display: flex;flex-direction: column;z-index: 1;position: relative;background-color: white;}#sk-container-id-11 div.sk-parallel-item:first-child::after {align-self: flex-end;width: 50%;}#sk-container-id-11 div.sk-parallel-item:last-child::after {align-self: flex-start;width: 50%;}#sk-container-id-11 div.sk-parallel-item:only-child::after {width: 0;}#sk-container-id-11 div.sk-dashed-wrapped {border: 1px dashed gray;margin: 0 0.4em 0.5em 0.4em;box-sizing: border-box;padding-bottom: 0.4em;background-color: white;}#sk-container-id-11 div.sk-label label {font-family: monospace;font-weight: bold;display: inline-block;line-height: 1.2em;}#sk-container-id-11 div.sk-label-container {text-align: center;}#sk-container-id-11 div.sk-container {/* jupyter's `normalize.less` sets `[hidden] { display: none; }` but bootstrap.min.css set `[hidden] { display: none !important; }` so we also need the `!important` here to be able to override the default hidden behavior on the sphinx rendered scikit-learn.org. See: https://github.com/scikit-learn/scikit-learn/issues/21755 */display: inline-block !important;position: relative;}#sk-container-id-11 div.sk-text-repr-fallback {display: none;}</style><div id=\"sk-container-id-11\" class=\"sk-top-container\"><div class=\"sk-text-repr-fallback\"><pre>RandomForestRegressor(bootstrap=False, max_features=6, n_estimators=40)</pre><b>In a Jupyter environment, please rerun this cell to show the HTML representation or trust the notebook. <br />On GitHub, the HTML representation is unable to render, please try loading this page with nbviewer.org.</b></div><div class=\"sk-container\" hidden><div class=\"sk-item\"><div class=\"sk-estimator sk-toggleable\"><input class=\"sk-toggleable__control sk-hidden--visually\" id=\"sk-estimator-id-23\" type=\"checkbox\" checked><label for=\"sk-estimator-id-23\" class=\"sk-toggleable__label sk-toggleable__label-arrow\">RandomForestRegressor</label><div class=\"sk-toggleable__content\"><pre>RandomForestRegressor(bootstrap=False, max_features=6, n_estimators=40)</pre></div></div></div></div></div>"
      ],
      "text/plain": [
       "RandomForestRegressor(bootstrap=False, max_features=6, n_estimators=40)"
      ]
     },
     "execution_count": 65,
     "metadata": {},
     "output_type": "execute_result"
    }
   ],
   "source": [
    "random_retrain_rand.fit(housing_X_train_prepared, housing_y_train)"
   ]
  },
  {
   "cell_type": "code",
   "execution_count": 66,
   "id": "d3aa9603",
   "metadata": {},
   "outputs": [],
   "source": [
    "random_rmse_grid = np.sqrt(sum(-random_scores_grid)/len(random_scores_grid))"
   ]
  },
  {
   "cell_type": "code",
   "execution_count": 67,
   "id": "24be307c",
   "metadata": {},
   "outputs": [],
   "source": [
    "random_grid_pred = random_retrain_grid.predict(housing_X_train_prepared)"
   ]
  },
  {
   "cell_type": "code",
   "execution_count": 68,
   "id": "b432eed2",
   "metadata": {},
   "outputs": [],
   "source": [
    "random_grid_r2 = r2_score(housing_y_train,random_grid_pred)"
   ]
  },
  {
   "cell_type": "code",
   "execution_count": 69,
   "id": "bb9096c4",
   "metadata": {},
   "outputs": [],
   "source": [
    "random_rmse_rand = np.sqrt(sum(-random_scores_rand)/len(random_scores_rand))"
   ]
  },
  {
   "cell_type": "code",
   "execution_count": 70,
   "id": "bdc4de78",
   "metadata": {},
   "outputs": [],
   "source": [
    "random_rand_pred = random_retrain_rand.predict(housing_X_train_prepared)"
   ]
  },
  {
   "cell_type": "code",
   "execution_count": 71,
   "id": "036a6aec",
   "metadata": {},
   "outputs": [],
   "source": [
    "random_rand_r2 = r2_score(housing_y_train,random_rand_pred)"
   ]
  },
  {
   "cell_type": "markdown",
   "id": "416ea98f",
   "metadata": {},
   "source": [
    "### For Support Vector Machine"
   ]
  },
  {
   "cell_type": "code",
   "execution_count": 72,
   "id": "c896357d",
   "metadata": {},
   "outputs": [
    {
     "data": {
      "text/html": [
       "<style>#sk-container-id-12 {color: black;background-color: white;}#sk-container-id-12 pre{padding: 0;}#sk-container-id-12 div.sk-toggleable {background-color: white;}#sk-container-id-12 label.sk-toggleable__label {cursor: pointer;display: block;width: 100%;margin-bottom: 0;padding: 0.3em;box-sizing: border-box;text-align: center;}#sk-container-id-12 label.sk-toggleable__label-arrow:before {content: \"▸\";float: left;margin-right: 0.25em;color: #696969;}#sk-container-id-12 label.sk-toggleable__label-arrow:hover:before {color: black;}#sk-container-id-12 div.sk-estimator:hover label.sk-toggleable__label-arrow:before {color: black;}#sk-container-id-12 div.sk-toggleable__content {max-height: 0;max-width: 0;overflow: hidden;text-align: left;background-color: #f0f8ff;}#sk-container-id-12 div.sk-toggleable__content pre {margin: 0.2em;color: black;border-radius: 0.25em;background-color: #f0f8ff;}#sk-container-id-12 input.sk-toggleable__control:checked~div.sk-toggleable__content {max-height: 200px;max-width: 100%;overflow: auto;}#sk-container-id-12 input.sk-toggleable__control:checked~label.sk-toggleable__label-arrow:before {content: \"▾\";}#sk-container-id-12 div.sk-estimator input.sk-toggleable__control:checked~label.sk-toggleable__label {background-color: #d4ebff;}#sk-container-id-12 div.sk-label input.sk-toggleable__control:checked~label.sk-toggleable__label {background-color: #d4ebff;}#sk-container-id-12 input.sk-hidden--visually {border: 0;clip: rect(1px 1px 1px 1px);clip: rect(1px, 1px, 1px, 1px);height: 1px;margin: -1px;overflow: hidden;padding: 0;position: absolute;width: 1px;}#sk-container-id-12 div.sk-estimator {font-family: monospace;background-color: #f0f8ff;border: 1px dotted black;border-radius: 0.25em;box-sizing: border-box;margin-bottom: 0.5em;}#sk-container-id-12 div.sk-estimator:hover {background-color: #d4ebff;}#sk-container-id-12 div.sk-parallel-item::after {content: \"\";width: 100%;border-bottom: 1px solid gray;flex-grow: 1;}#sk-container-id-12 div.sk-label:hover label.sk-toggleable__label {background-color: #d4ebff;}#sk-container-id-12 div.sk-serial::before {content: \"\";position: absolute;border-left: 1px solid gray;box-sizing: border-box;top: 0;bottom: 0;left: 50%;z-index: 0;}#sk-container-id-12 div.sk-serial {display: flex;flex-direction: column;align-items: center;background-color: white;padding-right: 0.2em;padding-left: 0.2em;position: relative;}#sk-container-id-12 div.sk-item {position: relative;z-index: 1;}#sk-container-id-12 div.sk-parallel {display: flex;align-items: stretch;justify-content: center;background-color: white;position: relative;}#sk-container-id-12 div.sk-item::before, #sk-container-id-12 div.sk-parallel-item::before {content: \"\";position: absolute;border-left: 1px solid gray;box-sizing: border-box;top: 0;bottom: 0;left: 50%;z-index: -1;}#sk-container-id-12 div.sk-parallel-item {display: flex;flex-direction: column;z-index: 1;position: relative;background-color: white;}#sk-container-id-12 div.sk-parallel-item:first-child::after {align-self: flex-end;width: 50%;}#sk-container-id-12 div.sk-parallel-item:last-child::after {align-self: flex-start;width: 50%;}#sk-container-id-12 div.sk-parallel-item:only-child::after {width: 0;}#sk-container-id-12 div.sk-dashed-wrapped {border: 1px dashed gray;margin: 0 0.4em 0.5em 0.4em;box-sizing: border-box;padding-bottom: 0.4em;background-color: white;}#sk-container-id-12 div.sk-label label {font-family: monospace;font-weight: bold;display: inline-block;line-height: 1.2em;}#sk-container-id-12 div.sk-label-container {text-align: center;}#sk-container-id-12 div.sk-container {/* jupyter's `normalize.less` sets `[hidden] { display: none; }` but bootstrap.min.css set `[hidden] { display: none !important; }` so we also need the `!important` here to be able to override the default hidden behavior on the sphinx rendered scikit-learn.org. See: https://github.com/scikit-learn/scikit-learn/issues/21755 */display: inline-block !important;position: relative;}#sk-container-id-12 div.sk-text-repr-fallback {display: none;}</style><div id=\"sk-container-id-12\" class=\"sk-top-container\"><div class=\"sk-text-repr-fallback\"><pre>SVR(C=10000.0, kernel=&#x27;linear&#x27;)</pre><b>In a Jupyter environment, please rerun this cell to show the HTML representation or trust the notebook. <br />On GitHub, the HTML representation is unable to render, please try loading this page with nbviewer.org.</b></div><div class=\"sk-container\" hidden><div class=\"sk-item\"><div class=\"sk-estimator sk-toggleable\"><input class=\"sk-toggleable__control sk-hidden--visually\" id=\"sk-estimator-id-24\" type=\"checkbox\" checked><label for=\"sk-estimator-id-24\" class=\"sk-toggleable__label sk-toggleable__label-arrow\">SVR</label><div class=\"sk-toggleable__content\"><pre>SVR(C=10000.0, kernel=&#x27;linear&#x27;)</pre></div></div></div></div></div>"
      ],
      "text/plain": [
       "SVR(C=10000.0, kernel='linear')"
      ]
     },
     "execution_count": 72,
     "metadata": {},
     "output_type": "execute_result"
    }
   ],
   "source": [
    "svm_retrain_grid.fit(housing_X_train_prepared, housing_y_train)"
   ]
  },
  {
   "cell_type": "code",
   "execution_count": 73,
   "id": "5b7c2e0d",
   "metadata": {},
   "outputs": [
    {
     "data": {
      "text/html": [
       "<style>#sk-container-id-13 {color: black;background-color: white;}#sk-container-id-13 pre{padding: 0;}#sk-container-id-13 div.sk-toggleable {background-color: white;}#sk-container-id-13 label.sk-toggleable__label {cursor: pointer;display: block;width: 100%;margin-bottom: 0;padding: 0.3em;box-sizing: border-box;text-align: center;}#sk-container-id-13 label.sk-toggleable__label-arrow:before {content: \"▸\";float: left;margin-right: 0.25em;color: #696969;}#sk-container-id-13 label.sk-toggleable__label-arrow:hover:before {color: black;}#sk-container-id-13 div.sk-estimator:hover label.sk-toggleable__label-arrow:before {color: black;}#sk-container-id-13 div.sk-toggleable__content {max-height: 0;max-width: 0;overflow: hidden;text-align: left;background-color: #f0f8ff;}#sk-container-id-13 div.sk-toggleable__content pre {margin: 0.2em;color: black;border-radius: 0.25em;background-color: #f0f8ff;}#sk-container-id-13 input.sk-toggleable__control:checked~div.sk-toggleable__content {max-height: 200px;max-width: 100%;overflow: auto;}#sk-container-id-13 input.sk-toggleable__control:checked~label.sk-toggleable__label-arrow:before {content: \"▾\";}#sk-container-id-13 div.sk-estimator input.sk-toggleable__control:checked~label.sk-toggleable__label {background-color: #d4ebff;}#sk-container-id-13 div.sk-label input.sk-toggleable__control:checked~label.sk-toggleable__label {background-color: #d4ebff;}#sk-container-id-13 input.sk-hidden--visually {border: 0;clip: rect(1px 1px 1px 1px);clip: rect(1px, 1px, 1px, 1px);height: 1px;margin: -1px;overflow: hidden;padding: 0;position: absolute;width: 1px;}#sk-container-id-13 div.sk-estimator {font-family: monospace;background-color: #f0f8ff;border: 1px dotted black;border-radius: 0.25em;box-sizing: border-box;margin-bottom: 0.5em;}#sk-container-id-13 div.sk-estimator:hover {background-color: #d4ebff;}#sk-container-id-13 div.sk-parallel-item::after {content: \"\";width: 100%;border-bottom: 1px solid gray;flex-grow: 1;}#sk-container-id-13 div.sk-label:hover label.sk-toggleable__label {background-color: #d4ebff;}#sk-container-id-13 div.sk-serial::before {content: \"\";position: absolute;border-left: 1px solid gray;box-sizing: border-box;top: 0;bottom: 0;left: 50%;z-index: 0;}#sk-container-id-13 div.sk-serial {display: flex;flex-direction: column;align-items: center;background-color: white;padding-right: 0.2em;padding-left: 0.2em;position: relative;}#sk-container-id-13 div.sk-item {position: relative;z-index: 1;}#sk-container-id-13 div.sk-parallel {display: flex;align-items: stretch;justify-content: center;background-color: white;position: relative;}#sk-container-id-13 div.sk-item::before, #sk-container-id-13 div.sk-parallel-item::before {content: \"\";position: absolute;border-left: 1px solid gray;box-sizing: border-box;top: 0;bottom: 0;left: 50%;z-index: -1;}#sk-container-id-13 div.sk-parallel-item {display: flex;flex-direction: column;z-index: 1;position: relative;background-color: white;}#sk-container-id-13 div.sk-parallel-item:first-child::after {align-self: flex-end;width: 50%;}#sk-container-id-13 div.sk-parallel-item:last-child::after {align-self: flex-start;width: 50%;}#sk-container-id-13 div.sk-parallel-item:only-child::after {width: 0;}#sk-container-id-13 div.sk-dashed-wrapped {border: 1px dashed gray;margin: 0 0.4em 0.5em 0.4em;box-sizing: border-box;padding-bottom: 0.4em;background-color: white;}#sk-container-id-13 div.sk-label label {font-family: monospace;font-weight: bold;display: inline-block;line-height: 1.2em;}#sk-container-id-13 div.sk-label-container {text-align: center;}#sk-container-id-13 div.sk-container {/* jupyter's `normalize.less` sets `[hidden] { display: none; }` but bootstrap.min.css set `[hidden] { display: none !important; }` so we also need the `!important` here to be able to override the default hidden behavior on the sphinx rendered scikit-learn.org. See: https://github.com/scikit-learn/scikit-learn/issues/21755 */display: inline-block !important;position: relative;}#sk-container-id-13 div.sk-text-repr-fallback {display: none;}</style><div id=\"sk-container-id-13\" class=\"sk-top-container\"><div class=\"sk-text-repr-fallback\"><pre>SVR(C=9477, kernel=&#x27;linear&#x27;)</pre><b>In a Jupyter environment, please rerun this cell to show the HTML representation or trust the notebook. <br />On GitHub, the HTML representation is unable to render, please try loading this page with nbviewer.org.</b></div><div class=\"sk-container\" hidden><div class=\"sk-item\"><div class=\"sk-estimator sk-toggleable\"><input class=\"sk-toggleable__control sk-hidden--visually\" id=\"sk-estimator-id-25\" type=\"checkbox\" checked><label for=\"sk-estimator-id-25\" class=\"sk-toggleable__label sk-toggleable__label-arrow\">SVR</label><div class=\"sk-toggleable__content\"><pre>SVR(C=9477, kernel=&#x27;linear&#x27;)</pre></div></div></div></div></div>"
      ],
      "text/plain": [
       "SVR(C=9477, kernel='linear')"
      ]
     },
     "execution_count": 73,
     "metadata": {},
     "output_type": "execute_result"
    }
   ],
   "source": [
    "svm_retrain_rand.fit(housing_X_train_prepared, housing_y_train)"
   ]
  },
  {
   "cell_type": "code",
   "execution_count": 74,
   "id": "5da83703",
   "metadata": {},
   "outputs": [],
   "source": [
    "svm_rmse_grid = np.sqrt(sum(-svm_scores_grid)/len(svm_scores_grid))"
   ]
  },
  {
   "cell_type": "code",
   "execution_count": 75,
   "id": "bd622080",
   "metadata": {},
   "outputs": [],
   "source": [
    "svm_grid_pred = svm_retrain_grid.predict(housing_X_train_prepared)"
   ]
  },
  {
   "cell_type": "code",
   "execution_count": 76,
   "id": "a230a36d",
   "metadata": {},
   "outputs": [],
   "source": [
    "svm_grid_r2 = r2_score(housing_y_train,svm_grid_pred)"
   ]
  },
  {
   "cell_type": "code",
   "execution_count": 77,
   "id": "4d07a06b",
   "metadata": {},
   "outputs": [],
   "source": [
    "svm_rmse_rand = np.sqrt(sum(-svm_scores_rand)/len(svm_scores_rand))"
   ]
  },
  {
   "cell_type": "code",
   "execution_count": 78,
   "id": "b90acc51",
   "metadata": {},
   "outputs": [],
   "source": [
    "svm_rand_pred = svm_retrain_rand.predict(housing_X_train_prepared)"
   ]
  },
  {
   "cell_type": "code",
   "execution_count": 79,
   "id": "3270a0e1",
   "metadata": {},
   "outputs": [],
   "source": [
    "svm_rand_r2 = r2_score(housing_y_train,svm_rand_pred)"
   ]
  },
  {
   "cell_type": "markdown",
   "id": "e4567d2d",
   "metadata": {},
   "source": [
    "### Now combining all the scores into lists"
   ]
  },
  {
   "cell_type": "code",
   "execution_count": 80,
   "id": "e8316e5a",
   "metadata": {},
   "outputs": [],
   "source": [
    "rmse_scores = [tree_rmse_grid,tree_rmse_rand,random_rmse_grid,random_rmse_rand,svm_rmse_grid,svm_rmse_rand]"
   ]
  },
  {
   "cell_type": "code",
   "execution_count": 81,
   "id": "d2c27cca",
   "metadata": {},
   "outputs": [],
   "source": [
    "r2_scores = [tree_grid_r2,tree_rand_r2,random_grid_r2,random_rand_r2,svm_grid_r2,svm_rand_r2]"
   ]
  },
  {
   "cell_type": "code",
   "execution_count": 82,
   "id": "10754406",
   "metadata": {},
   "outputs": [
    {
     "name": "stdout",
     "output_type": "stream",
     "text": [
      "[62947.587019633735, 62947.587019633735, 49421.8117567042, 48525.917033254285, 70349.91257509888, 70349.47389428459]\n"
     ]
    }
   ],
   "source": [
    "print(rmse_scores)"
   ]
  },
  {
   "cell_type": "code",
   "execution_count": 83,
   "id": "07a2f3a4",
   "metadata": {},
   "outputs": [
    {
     "name": "stdout",
     "output_type": "stream",
     "text": [
      "[0.7309114004507317, 0.7309114004507317, 1.0, 1.0, 0.6320836765382409, 0.6320938176750993]\n"
     ]
    }
   ],
   "source": [
    "print(r2_scores)"
   ]
  },
  {
   "cell_type": "code",
   "execution_count": null,
   "id": "9ac4e566",
   "metadata": {},
   "outputs": [],
   "source": [
    "grid_rmse_scores = [tree_rmse_grid,random_rmse_grid,svm_rmse_grid]\n",
    "rand_rmse_scores = [tree_rmse_rand,random_rmse_rand,svm_rmse_rand]\n",
    "\n",
    "grid_r2_score = [tree_grid_r2,random_grid_r2,svm_grid_r2]\n",
    "rand_r2_score = [tree_rand_r2,random_rand_r2,svm_rand_r2]"
   ]
  },
  {
   "cell_type": "markdown",
   "id": "8b758f26",
   "metadata": {},
   "source": [
    "### Plotting the values for comparison"
   ]
  },
  {
   "cell_type": "code",
   "execution_count": 84,
   "id": "4886def3",
   "metadata": {},
   "outputs": [],
   "source": [
    "models = {\n",
    "    \n",
    "    \"Decision Tree - Grid Search\": DecisionTreeRegressor(max_depth=10, max_leaf_nodes=50, min_samples_leaf=5,\n",
    "                      min_samples_split=5,random_state=42),\n",
    "    \"Decision Tree - Random Search\": DecisionTreeRegressor(ccp_alpha=0.1, max_depth=10, max_leaf_nodes=50,\n",
    "                      min_samples_leaf=5, min_samples_split=5,random_state=42),\n",
    "    \"Random Forest - Grid Search\": RandomForestRegressor(bootstrap=False, max_features=4, n_estimators=30,random_state=42),\n",
    "    \"Random Forest - Random Search\": RandomForestRegressor(bootstrap=False, max_features=6, n_estimators=40, random_state=42),\n",
    "    \"SVR - Grid Search\": SVR(C=10000.0, kernel='linear'),\n",
    "    \"SVR - Random Search\": SVR(C=9477, kernel='linear')\n",
    "}\n",
    "\n",
    "model_names = list(models.keys())"
   ]
  },
  {
   "cell_type": "code",
   "execution_count": 85,
   "id": "70cd8cc0",
   "metadata": {},
   "outputs": [],
   "source": [
    "import os\n",
    "PROJECT_ROOT_DIR = \".\"\n",
    "CHAPTER_ID = \"end_to_end_project\"\n",
    "IMAGES_PATH = os.path.join(PROJECT_ROOT_DIR, \"images\", CHAPTER_ID)\n",
    "os.makedirs(IMAGES_PATH, exist_ok=True)\n",
    "def save_fig(fig_id, tight_layout=True, fig_extension=\"jpg\", resolution=300):\n",
    "    path = os.path.join(IMAGES_PATH, fig_id + \".\" + fig_extension)\n",
    "    print(\"Saving figure\", fig_id)\n",
    "    if tight_layout:\n",
    "        plt.tight_layout()\n",
    "    plt.savefig(path, format=fig_extension, dpi=resolution)"
   ]
  },
  {
   "cell_type": "code",
   "execution_count": 86,
   "id": "ebebfbcc",
   "metadata": {},
   "outputs": [
    {
     "data": {
      "image/png": "[encoded data removed]",
      "text/plain": [
       "<Figure size 1000x600 with 1 Axes>"
      ]
     },
     "metadata": {},
     "output_type": "display_data"
    }
   ],
   "source": [
    "x = np.arange(2)\n",
    "y1 = [tree_rmse_grid,tree_rmse_rand]\n",
    "y2 = [random_rmse_grid,random_rmse_rand]\n",
    "y3 = [svm_rmse_grid,svm_rmse_rand]\n",
    "width = 0.2\n",
    "\n",
    "plt.figure(figsize=(10, 6))\n",
    "plt.bar(x-0.2, y1, width, color='red') \n",
    "plt.bar(x, y2, width, color='skyblue') \n",
    "plt.bar(x+0.2, y3, width, color='purple') \n",
    "plt.xticks(x, ['RMSE Values - Grid Search', 'RMSE Values - Random Search']) \n",
    "plt.xlabel(\"Model\") \n",
    "plt.ylabel(\"RMSE Values\") \n",
    "plt.legend([\"Decision Tree\", \"Random Forest\", \"Support Vector\"],loc=\"upper center\",fontsize=11) \n",
    "plt.show() "
   ]
  },
  {
   "cell_type": "code",
   "execution_count": 87,
   "id": "c5efc419",
   "metadata": {},
   "outputs": [
    {
     "data": {
      "image/png": "[encoded data removed]",
      "text/plain": [
       "<Figure size 1000x600 with 1 Axes>"
      ]
     },
     "metadata": {},
     "output_type": "display_data"
    }
   ],
   "source": [
    "x = np.arange(2)\n",
    "y1 = [tree_grid_r2,tree_rand_r2]\n",
    "y2 = [random_grid_r2,random_rand_r2]\n",
    "y3 = [svm_grid_r2,svm_rand_r2]\n",
    "width = 0.2\n",
    "\n",
    "plt.figure(figsize=(10, 6))\n",
    "plt.bar(x-0.2, y1, width, color='red') \n",
    "plt.bar(x, y2, width, color='skyblue') \n",
    "plt.bar(x+0.2, y3, width, color='purple') \n",
    "plt.xticks(x, ['R2 Score - Grid Search', 'R2 Score - Random Search']) \n",
    "plt.xlabel(\"Model\") \n",
    "plt.ylabel(\"R2 Score\") \n",
    "plt.legend([\"Decision Tree\", \"Random Forest\", \"Support Vector\"],loc=\"upper center\",fontsize=12) \n",
    "plt.show() "
   ]
  },
  {
   "cell_type": "markdown",
   "id": "64c5ab35",
   "metadata": {},
   "source": [
    "## Here we can see that Random Forest (Random Search) yields the best result! So we use the \"Test Set\" to predict the values and find the metrics of accuracy (RMSE and R2 score)"
   ]
  },
  {
   "cell_type": "code",
   "execution_count": 88,
   "id": "66787383",
   "metadata": {},
   "outputs": [],
   "source": [
    "best_model = RandomForestRegressor(bootstrap=False, max_features=6, n_estimators=40, random_state=42)"
   ]
  },
  {
   "cell_type": "code",
   "execution_count": 89,
   "id": "2e2670f8",
   "metadata": {},
   "outputs": [
    {
     "data": {
      "text/html": [
       "<style>#sk-container-id-14 {color: black;background-color: white;}#sk-container-id-14 pre{padding: 0;}#sk-container-id-14 div.sk-toggleable {background-color: white;}#sk-container-id-14 label.sk-toggleable__label {cursor: pointer;display: block;width: 100%;margin-bottom: 0;padding: 0.3em;box-sizing: border-box;text-align: center;}#sk-container-id-14 label.sk-toggleable__label-arrow:before {content: \"▸\";float: left;margin-right: 0.25em;color: #696969;}#sk-container-id-14 label.sk-toggleable__label-arrow:hover:before {color: black;}#sk-container-id-14 div.sk-estimator:hover label.sk-toggleable__label-arrow:before {color: black;}#sk-container-id-14 div.sk-toggleable__content {max-height: 0;max-width: 0;overflow: hidden;text-align: left;background-color: #f0f8ff;}#sk-container-id-14 div.sk-toggleable__content pre {margin: 0.2em;color: black;border-radius: 0.25em;background-color: #f0f8ff;}#sk-container-id-14 input.sk-toggleable__control:checked~div.sk-toggleable__content {max-height: 200px;max-width: 100%;overflow: auto;}#sk-container-id-14 input.sk-toggleable__control:checked~label.sk-toggleable__label-arrow:before {content: \"▾\";}#sk-container-id-14 div.sk-estimator input.sk-toggleable__control:checked~label.sk-toggleable__label {background-color: #d4ebff;}#sk-container-id-14 div.sk-label input.sk-toggleable__control:checked~label.sk-toggleable__label {background-color: #d4ebff;}#sk-container-id-14 input.sk-hidden--visually {border: 0;clip: rect(1px 1px 1px 1px);clip: rect(1px, 1px, 1px, 1px);height: 1px;margin: -1px;overflow: hidden;padding: 0;position: absolute;width: 1px;}#sk-container-id-14 div.sk-estimator {font-family: monospace;background-color: #f0f8ff;border: 1px dotted black;border-radius: 0.25em;box-sizing: border-box;margin-bottom: 0.5em;}#sk-container-id-14 div.sk-estimator:hover {background-color: #d4ebff;}#sk-container-id-14 div.sk-parallel-item::after {content: \"\";width: 100%;border-bottom: 1px solid gray;flex-grow: 1;}#sk-container-id-14 div.sk-label:hover label.sk-toggleable__label {background-color: #d4ebff;}#sk-container-id-14 div.sk-serial::before {content: \"\";position: absolute;border-left: 1px solid gray;box-sizing: border-box;top: 0;bottom: 0;left: 50%;z-index: 0;}#sk-container-id-14 div.sk-serial {display: flex;flex-direction: column;align-items: center;background-color: white;padding-right: 0.2em;padding-left: 0.2em;position: relative;}#sk-container-id-14 div.sk-item {position: relative;z-index: 1;}#sk-container-id-14 div.sk-parallel {display: flex;align-items: stretch;justify-content: center;background-color: white;position: relative;}#sk-container-id-14 div.sk-item::before, #sk-container-id-14 div.sk-parallel-item::before {content: \"\";position: absolute;border-left: 1px solid gray;box-sizing: border-box;top: 0;bottom: 0;left: 50%;z-index: -1;}#sk-container-id-14 div.sk-parallel-item {display: flex;flex-direction: column;z-index: 1;position: relative;background-color: white;}#sk-container-id-14 div.sk-parallel-item:first-child::after {align-self: flex-end;width: 50%;}#sk-container-id-14 div.sk-parallel-item:last-child::after {align-self: flex-start;width: 50%;}#sk-container-id-14 div.sk-parallel-item:only-child::after {width: 0;}#sk-container-id-14 div.sk-dashed-wrapped {border: 1px dashed gray;margin: 0 0.4em 0.5em 0.4em;box-sizing: border-box;padding-bottom: 0.4em;background-color: white;}#sk-container-id-14 div.sk-label label {font-family: monospace;font-weight: bold;display: inline-block;line-height: 1.2em;}#sk-container-id-14 div.sk-label-container {text-align: center;}#sk-container-id-14 div.sk-container {/* jupyter's `normalize.less` sets `[hidden] { display: none; }` but bootstrap.min.css set `[hidden] { display: none !important; }` so we also need the `!important` here to be able to override the default hidden behavior on the sphinx rendered scikit-learn.org. See: https://github.com/scikit-learn/scikit-learn/issues/21755 */display: inline-block !important;position: relative;}#sk-container-id-14 div.sk-text-repr-fallback {display: none;}</style><div id=\"sk-container-id-14\" class=\"sk-top-container\"><div class=\"sk-text-repr-fallback\"><pre>RandomForestRegressor(bootstrap=False, max_features=6, n_estimators=40,\n",
       "                      random_state=42)</pre><b>In a Jupyter environment, please rerun this cell to show the HTML representation or trust the notebook. <br />On GitHub, the HTML representation is unable to render, please try loading this page with nbviewer.org.</b></div><div class=\"sk-container\" hidden><div class=\"sk-item\"><div class=\"sk-estimator sk-toggleable\"><input class=\"sk-toggleable__control sk-hidden--visually\" id=\"sk-estimator-id-26\" type=\"checkbox\" checked><label for=\"sk-estimator-id-26\" class=\"sk-toggleable__label sk-toggleable__label-arrow\">RandomForestRegressor</label><div class=\"sk-toggleable__content\"><pre>RandomForestRegressor(bootstrap=False, max_features=6, n_estimators=40,\n",
       "                      random_state=42)</pre></div></div></div></div></div>"
      ],
      "text/plain": [
       "RandomForestRegressor(bootstrap=False, max_features=6, n_estimators=40,\n",
       "                      random_state=42)"
      ]
     },
     "execution_count": 89,
     "metadata": {},
     "output_type": "execute_result"
    }
   ],
   "source": [
    "best_model.fit(housing_X_train_prepared, housing_y_train)"
   ]
  },
  {
   "cell_type": "code",
   "execution_count": 90,
   "id": "438eb1f7",
   "metadata": {},
   "outputs": [],
   "source": [
    "housing_X_test_prepared = full_pipeline.fit_transform(housing_X_test)"
   ]
  },
  {
   "cell_type": "code",
   "execution_count": 91,
   "id": "b185048d",
   "metadata": {},
   "outputs": [],
   "source": [
    "final_prediction = best_model.predict(housing_X_test_prepared)"
   ]
  },
  {
   "cell_type": "code",
   "execution_count": 92,
   "id": "f4e897c9",
   "metadata": {},
   "outputs": [],
   "source": [
    "from sklearn.metrics import mean_squared_error, mean_absolute_error"
   ]
  },
  {
   "cell_type": "code",
   "execution_count": 93,
   "id": "2ddd2b82",
   "metadata": {},
   "outputs": [],
   "source": [
    "final_mse = mean_squared_error(housing_y_test, final_prediction)"
   ]
  },
  {
   "cell_type": "code",
   "execution_count": 94,
   "id": "8b0a012e",
   "metadata": {},
   "outputs": [
    {
     "name": "stdout",
     "output_type": "stream",
     "text": [
      "4541713184.984454\n"
     ]
    }
   ],
   "source": [
    "print(final_mse)"
   ]
  },
  {
   "cell_type": "code",
   "execution_count": 95,
   "id": "b2c26232",
   "metadata": {},
   "outputs": [],
   "source": [
    "final_rmse = np.sqrt(final_mse)"
   ]
  },
  {
   "cell_type": "code",
   "execution_count": 96,
   "id": "111fb1be",
   "metadata": {},
   "outputs": [
    {
     "name": "stdout",
     "output_type": "stream",
     "text": [
      "67392.23386254869\n"
     ]
    }
   ],
   "source": [
    "print(final_rmse)"
   ]
  },
  {
   "cell_type": "code",
   "execution_count": 97,
   "id": "5465e520",
   "metadata": {},
   "outputs": [],
   "source": [
    "final_model_r2_score = r2_score(housing_y_test, final_prediction)"
   ]
  },
  {
   "cell_type": "code",
   "execution_count": 98,
   "id": "ce1c19ba",
   "metadata": {},
   "outputs": [
    {
     "name": "stdout",
     "output_type": "stream",
     "text": [
      "0.6515260598456449\n"
     ]
    }
   ],
   "source": [
    "print(final_model_r2_score)"
   ]
  },
  {
   "cell_type": "markdown",
   "id": "e22afc0a",
   "metadata": {},
   "source": [
    "### Prediction using test data for Linear Regression along with RMSE and R2 score"
   ]
  },
  {
   "cell_type": "code",
   "execution_count": 101,
   "id": "5aa54b22",
   "metadata": {},
   "outputs": [],
   "source": [
    "lin_test_pred = linear_retrain.predict(housing_X_test_prepared)"
   ]
  },
  {
   "cell_type": "code",
   "execution_count": 102,
   "id": "6e5df395",
   "metadata": {},
   "outputs": [],
   "source": [
    "linear_test_rmse = np.sqrt(mean_squared_error(housing_y_test,lin_test_pred))"
   ]
  },
  {
   "cell_type": "code",
   "execution_count": 103,
   "id": "3eac98f9",
   "metadata": {},
   "outputs": [],
   "source": [
    "linear_test_r2 = r2_score(housing_y_test,lin_test_pred)"
   ]
  },
  {
   "cell_type": "code",
   "execution_count": 104,
   "id": "102755d5",
   "metadata": {},
   "outputs": [
    {
     "name": "stdout",
     "output_type": "stream",
     "text": [
      "66975.77789893825 0.6558196004845205\n"
     ]
    }
   ],
   "source": [
    "print(linear_test_rmse,linear_test_r2)"
   ]
  },
  {
   "cell_type": "markdown",
   "id": "ef2bf674",
   "metadata": {},
   "source": [
    "### Prediction using test data for Decision Tree Regression along with RMSE and R2 score"
   ]
  },
  {
   "cell_type": "code",
   "execution_count": 105,
   "id": "97a97c26",
   "metadata": {},
   "outputs": [],
   "source": [
    "tree_test_pred = tree_retrain_rand.predict(housing_X_test_prepared)"
   ]
  },
  {
   "cell_type": "code",
   "execution_count": 106,
   "id": "a2d51025",
   "metadata": {},
   "outputs": [],
   "source": [
    "tree_test_rmse = np.sqrt(mean_squared_error(housing_y_test,tree_test_pred))"
   ]
  },
  {
   "cell_type": "code",
   "execution_count": 108,
   "id": "2589a5d1",
   "metadata": {},
   "outputs": [],
   "source": [
    "tree_test_r2 = r2_score(housing_y_test,tree_test_pred)"
   ]
  },
  {
   "cell_type": "code",
   "execution_count": 109,
   "id": "59ff8832",
   "metadata": {},
   "outputs": [
    {
     "name": "stdout",
     "output_type": "stream",
     "text": [
      "81156.6304206471 0.4946426162498273\n"
     ]
    }
   ],
   "source": [
    "print(tree_test_rmse,tree_test_r2)"
   ]
  },
  {
   "cell_type": "markdown",
   "id": "b050b64d",
   "metadata": {},
   "source": [
    "### Prediction using test data for Support Vector Machine along with RMSE and R2 score"
   ]
  },
  {
   "cell_type": "code",
   "execution_count": 110,
   "id": "44a60b92",
   "metadata": {},
   "outputs": [],
   "source": [
    "svm_test_pred = svm_retrain_rand.predict(housing_X_test_prepared)"
   ]
  },
  {
   "cell_type": "code",
   "execution_count": 111,
   "id": "d391f78d",
   "metadata": {},
   "outputs": [],
   "source": [
    "svm_test_rmse = np.sqrt(mean_squared_error(housing_y_test,svm_test_pred))"
   ]
  },
  {
   "cell_type": "code",
   "execution_count": 112,
   "id": "974a21ec",
   "metadata": {},
   "outputs": [],
   "source": [
    "svm_test_r2 = r2_score(housing_y_test,svm_test_pred)"
   ]
  },
  {
   "cell_type": "code",
   "execution_count": 113,
   "id": "8aecc8d3",
   "metadata": {},
   "outputs": [
    {
     "name": "stdout",
     "output_type": "stream",
     "text": [
      "68233.28524737363 0.642773914020387\n"
     ]
    }
   ],
   "source": [
    "print(svm_test_rmse,svm_test_r2)"
   ]
  },
  {
   "cell_type": "code",
   "execution_count": null,
   "id": "c0d8d94d",
   "metadata": {},
   "outputs": [],
   "source": []
  },
  {
   "cell_type": "code",
   "execution_count": 136,
   "id": "2268425a",
   "metadata": {},
   "outputs": [
    {
     "data": {
      "image/png": "[encoded data removed]",
      "text/plain": [
       "<Figure size 1000x600 with 1 Axes>"
      ]
     },
     "metadata": {},
     "output_type": "display_data"
    }
   ],
   "source": [
    "x = np.arange(1)\n",
    "y1 = [tree_test_rmse]\n",
    "y2 = [svm_test_rmse]\n",
    "y3 = [final_rmse]\n",
    "\n",
    "width = 0.1\n",
    "\n",
    "plt.figure(figsize=(10, 6))\n",
    "plt.bar(x-0.1, y1, width, color='red') \n",
    "plt.bar(x, y2, width, color='skyblue') \n",
    "plt.bar(x+0.1, y3, width, color='green')\n",
    "\n",
    "\n",
    "plt.xticks(x, ['RMSE Values']) \n",
    "plt.xlabel(\"Model\") \n",
    "plt.ylabel(\"RMSE Values\") \n",
    "plt.legend([\"Decision Tree\", \"Support Vector\", \"Best Model\"],loc=\"upper center\",fontsize=10)\n",
    "plt.show() "
   ]
  },
  {
   "cell_type": "code",
   "execution_count": 139,
   "id": "692cd258",
   "metadata": {},
   "outputs": [
    {
     "data": {
      "image/png": "[encoded data removed]",
      "text/plain": [
       "<Figure size 1000x600 with 1 Axes>"
      ]
     },
     "metadata": {},
     "output_type": "display_data"
    }
   ],
   "source": [
    "x = np.arange(1)\n",
    "y1 = [tree_test_r2]\n",
    "y2 = [svm_test_r2]\n",
    "y3 = [final_model_r2_score]\n",
    "\n",
    "width = 0.1\n",
    "\n",
    "plt.figure(figsize=(10, 6))\n",
    "plt.bar(x-0.1, y1, width, color='red') \n",
    "plt.bar(x, y2, width, color='skyblue') \n",
    "plt.bar(x+0.1, y3, width, color='green')\n",
    "\n",
    "\n",
    "plt.xticks(x, ['R2 Score']) \n",
    "plt.xlabel(\"Model\") \n",
    "plt.ylabel(\"R2 Score\") \n",
    "plt.legend([\"Decision Tree\", \"Support Vector\", \"Best Model\"],loc=\"upper left\",fontsize=10)\n",
    "plt.show() "
   ]
  },
  {
   "cell_type": "markdown",
   "id": "a16033de",
   "metadata": {},
   "source": [
    "### RMSE value of Decision Tree Regressor does not yield better result than Random Forest model. Hence, Random Forest - Random Search Model is the best performing model."
   ]
  }
 ],
 "metadata": {
  "kernelspec": {
   "display_name": "Python 3 (ipykernel)",
   "language": "python",
   "name": "python3"
  },
  "language_info": {
   "codemirror_mode": {
    "name": "ipython",
    "version": 3
   },
   "file_extension": ".py",
   "mimetype": "text/x-python",
   "name": "python",
   "nbconvert_exporter": "python",
   "pygments_lexer": "ipython3",
   "version": "3.10.0"
  }
 },
 "nbformat": 4,
 "nbformat_minor": 5
}
